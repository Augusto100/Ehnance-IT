{
  "nbformat": 4,
  "nbformat_minor": 0,
  "metadata": {
    "colab": {
      "name": "Naive Bayes and Bayesian Inference.ipynb",
      "provenance": []
    },
    "kernelspec": {
      "name": "python3",
      "display_name": "Python 3"
    },
    "language_info": {
      "name": "python"
    }
  },
  "cells": [
    {
      "cell_type": "markdown",
      "source": [
        "## Import libraries"
      ],
      "metadata": {
        "id": "LusgOdtt4vWw"
      }
    },
    {
      "cell_type": "code",
      "execution_count": 1,
      "metadata": {
        "id": "6ectU1Id8HTT"
      },
      "outputs": [],
      "source": [
        "import pandas as pd\n",
        "import numpy as np\n",
        "import matplotlib.pyplot as plt\n",
        "plt.style.use(\"seaborn\")\n",
        "from scipy.stats import multivariate_normal as mvn"
      ]
    },
    {
      "cell_type": "code",
      "source": [
        "import warnings\n",
        "warnings.filterwarnings('ignore')\n",
        "%config InlineBackend.figure_format = 'svg'"
      ],
      "metadata": {
        "id": "u7tZ7pZlFHjy"
      },
      "execution_count": 2,
      "outputs": []
    },
    {
      "cell_type": "markdown",
      "source": [
        "## Import trainning and tes\n",
        "\n",
        "\n"
      ],
      "metadata": {
        "id": "idH0EJmsxhNN"
      }
    },
    {
      "cell_type": "code",
      "source": [
        "data_train=pd.read_csv(\"/content/drive/MyDrive/Enhance it/Cesar Perez - MNIST_train.csv\")"
      ],
      "metadata": {
        "id": "0AD5LedqyaT7"
      },
      "execution_count": 3,
      "outputs": []
    },
    {
      "cell_type": "code",
      "source": [
        "data_test=pd.read_csv(\"/content/drive/MyDrive/Enhance it/Cesar Perez - MNIST_test.csv\")"
      ],
      "metadata": {
        "id": "ddYSHzpu0Bh0"
      },
      "execution_count": 4,
      "outputs": []
    },
    {
      "cell_type": "code",
      "source": [
        "X_train=data_train.iloc[:,3:]\n",
        "y_train=data_train.iloc[:,2]"
      ],
      "metadata": {
        "id": "caJP7VSFFRH0"
      },
      "execution_count": 6,
      "outputs": []
    },
    {
      "cell_type": "code",
      "source": [
        "X_test=data_test.iloc[:,3:]\n",
        "y_test=data_test.iloc[:,2]"
      ],
      "metadata": {
        "id": "SKCbsUa09lzz"
      },
      "execution_count": 7,
      "outputs": []
    },
    {
      "cell_type": "code",
      "source": [
        "class GaussNB():\n",
        "  def fit(self, X, y, epsilon=1e-3):\n",
        "    self.likelihoods = dict()\n",
        "    self.priors=dict()\n",
        "\n",
        "    self.K=set(y.astype(int))\n",
        "\n",
        "    for k in self.K:\n",
        "      X_k=X[y==k, :]\n",
        "      self.likelihoods[k]={\"mean\":X_k.mean(axis=0), \"cov\":X_k.var(axis=0)+epsilon}\n",
        "      self.priors[k]=len(X_k)/len(X)\n",
        "\n",
        "  def predict(self,X):\n",
        "\n",
        "    N,D=X.shape\n",
        "    P_hat=np.zeros((N, len(self.K)))\n",
        "\n",
        "    for k, l in self.likelihoods.items():\n",
        "      P_hat[:,k]=mvn.logpdf(X, l['mean'], l[\"cov\"])+np.log(self.priors[k])\n",
        "\n",
        "    return P_hat.argmax(axis=1)"
      ],
      "metadata": {
        "id": "_7V7GbTw7h7q"
      },
      "execution_count": 8,
      "outputs": []
    },
    {
      "cell_type": "code",
      "source": [
        "class GaussBayes():\n",
        "  def fit(self, X, y, epsilon=1e-3):\n",
        "  \n",
        "    self.likelihoods=dict()\n",
        "    self.priors=dict()\n",
        "    self.K=set(y.astype(int))\n",
        "\n",
        "    for k in self.K:\n",
        "\n",
        "      X_k=X[y==k,:]\n",
        "      N_k, D=X_k.shape\n",
        "      mu_k=X_k.mean(axis=0)\n",
        "\n",
        "      self.likelihoods[k]={'mean':X_k.mean(axis=0),'cov':(1/(N_k-1))*np.matmul((X_k-mu_k).T, X_k-mu_k)+epsilon*np.identity(D)}\n",
        "      self.priors[k]=len(X_k)/len(X)\n",
        "  \n",
        "  def predict(self,X):\n",
        "\n",
        "    N,D=X.shape\n",
        "    P_hat=np.zeros((N, len(self.K)))\n",
        "\n",
        "    for k, l in self.likelihoods.items():\n",
        "      P_hat[:,k]=mvn.logpdf(X, l['mean'], l[\"cov\"])+np.log(self.priors[k])\n",
        "    \n",
        "    return P_hat.argmax(axis=1)"
      ],
      "metadata": {
        "id": "V3CfU1iO-b-l"
      },
      "execution_count": 9,
      "outputs": []
    },
    {
      "cell_type": "code",
      "source": [
        "def accuracy(y, y_hat):\n",
        "  return np.mean(y==y_hat)"
      ],
      "metadata": {
        "id": "UBZhrR_QAi3_"
      },
      "execution_count": 10,
      "outputs": []
    },
    {
      "cell_type": "code",
      "source": [
        "gauss=GaussBayes()"
      ],
      "metadata": {
        "id": "z-fIVXcN0TM3"
      },
      "execution_count": 11,
      "outputs": []
    },
    {
      "cell_type": "code",
      "source": [
        "gauss.fit((X_train/255).to_numpy(), y_train.to_numpy())"
      ],
      "metadata": {
        "id": "R5Nb4dwJ7oK2"
      },
      "execution_count": 12,
      "outputs": []
    },
    {
      "cell_type": "code",
      "source": [
        "y_hat=gauss.predict(X_test.to_numpy())"
      ],
      "metadata": {
        "id": "WrCiaRyUAYqy"
      },
      "execution_count": 15,
      "outputs": []
    },
    {
      "cell_type": "code",
      "source": [
        "accuracy( y_test.to_numpy(), y_hat)"
      ],
      "metadata": {
        "colab": {
          "base_uri": "https://localhost:8080/",
          "height": 0
        },
        "id": "2PBk89SXApZR",
        "outputId": "c7c07e3e-109c-4e9c-cf5c-e4741091571a"
      },
      "execution_count": 16,
      "outputs": [
        {
          "output_type": "execute_result",
          "data": {
            "text/plain": [
              "0.8615"
            ]
          },
          "metadata": {},
          "execution_count": 16
        }
      ]
    },
    {
      "cell_type": "code",
      "source": [
        "y_hat=pd.DataFrame(y_hat, columns=[\"y_hat\"])"
      ],
      "metadata": {
        "id": "UJAUK863cLRX"
      },
      "execution_count": 17,
      "outputs": []
    },
    {
      "cell_type": "code",
      "source": [
        "y_test=pd.DataFrame(y_test)"
      ],
      "metadata": {
        "id": "c4qSs99pebcl"
      },
      "execution_count": 19,
      "outputs": []
    },
    {
      "cell_type": "code",
      "source": [
        "confusion_matrix=pd.concat([y_hat,y_test], axis=1)"
      ],
      "metadata": {
        "id": "iY4sTaT0ez3M"
      },
      "execution_count": 20,
      "outputs": []
    },
    {
      "cell_type": "code",
      "source": [
        "confusion_matrix"
      ],
      "metadata": {
        "id": "7_bDuZk7fa1F",
        "outputId": "a3d9dd04-99df-4462-86b9-957116ef0fce",
        "colab": {
          "base_uri": "https://localhost:8080/",
          "height": 424
        }
      },
      "execution_count": 21,
      "outputs": [
        {
          "output_type": "execute_result",
          "data": {
            "text/plain": [
              "      y_hat  labels\n",
              "0         7       7\n",
              "1         2       2\n",
              "2         1       1\n",
              "3         0       0\n",
              "4         4       4\n",
              "...     ...     ...\n",
              "9995      2       2\n",
              "9996      3       3\n",
              "9997      4       4\n",
              "9998      5       5\n",
              "9999      6       6\n",
              "\n",
              "[10000 rows x 2 columns]"
            ],
            "text/html": [
              "\n",
              "  <div id=\"df-45ae0078-148f-4052-a070-6a21fd6dfc0f\">\n",
              "    <div class=\"colab-df-container\">\n",
              "      <div>\n",
              "<style scoped>\n",
              "    .dataframe tbody tr th:only-of-type {\n",
              "        vertical-align: middle;\n",
              "    }\n",
              "\n",
              "    .dataframe tbody tr th {\n",
              "        vertical-align: top;\n",
              "    }\n",
              "\n",
              "    .dataframe thead th {\n",
              "        text-align: right;\n",
              "    }\n",
              "</style>\n",
              "<table border=\"1\" class=\"dataframe\">\n",
              "  <thead>\n",
              "    <tr style=\"text-align: right;\">\n",
              "      <th></th>\n",
              "      <th>y_hat</th>\n",
              "      <th>labels</th>\n",
              "    </tr>\n",
              "  </thead>\n",
              "  <tbody>\n",
              "    <tr>\n",
              "      <th>0</th>\n",
              "      <td>7</td>\n",
              "      <td>7</td>\n",
              "    </tr>\n",
              "    <tr>\n",
              "      <th>1</th>\n",
              "      <td>2</td>\n",
              "      <td>2</td>\n",
              "    </tr>\n",
              "    <tr>\n",
              "      <th>2</th>\n",
              "      <td>1</td>\n",
              "      <td>1</td>\n",
              "    </tr>\n",
              "    <tr>\n",
              "      <th>3</th>\n",
              "      <td>0</td>\n",
              "      <td>0</td>\n",
              "    </tr>\n",
              "    <tr>\n",
              "      <th>4</th>\n",
              "      <td>4</td>\n",
              "      <td>4</td>\n",
              "    </tr>\n",
              "    <tr>\n",
              "      <th>...</th>\n",
              "      <td>...</td>\n",
              "      <td>...</td>\n",
              "    </tr>\n",
              "    <tr>\n",
              "      <th>9995</th>\n",
              "      <td>2</td>\n",
              "      <td>2</td>\n",
              "    </tr>\n",
              "    <tr>\n",
              "      <th>9996</th>\n",
              "      <td>3</td>\n",
              "      <td>3</td>\n",
              "    </tr>\n",
              "    <tr>\n",
              "      <th>9997</th>\n",
              "      <td>4</td>\n",
              "      <td>4</td>\n",
              "    </tr>\n",
              "    <tr>\n",
              "      <th>9998</th>\n",
              "      <td>5</td>\n",
              "      <td>5</td>\n",
              "    </tr>\n",
              "    <tr>\n",
              "      <th>9999</th>\n",
              "      <td>6</td>\n",
              "      <td>6</td>\n",
              "    </tr>\n",
              "  </tbody>\n",
              "</table>\n",
              "<p>10000 rows × 2 columns</p>\n",
              "</div>\n",
              "      <button class=\"colab-df-convert\" onclick=\"convertToInteractive('df-45ae0078-148f-4052-a070-6a21fd6dfc0f')\"\n",
              "              title=\"Convert this dataframe to an interactive table.\"\n",
              "              style=\"display:none;\">\n",
              "        \n",
              "  <svg xmlns=\"http://www.w3.org/2000/svg\" height=\"24px\"viewBox=\"0 0 24 24\"\n",
              "       width=\"24px\">\n",
              "    <path d=\"M0 0h24v24H0V0z\" fill=\"none\"/>\n",
              "    <path d=\"M18.56 5.44l.94 2.06.94-2.06 2.06-.94-2.06-.94-.94-2.06-.94 2.06-2.06.94zm-11 1L8.5 8.5l.94-2.06 2.06-.94-2.06-.94L8.5 2.5l-.94 2.06-2.06.94zm10 10l.94 2.06.94-2.06 2.06-.94-2.06-.94-.94-2.06-.94 2.06-2.06.94z\"/><path d=\"M17.41 7.96l-1.37-1.37c-.4-.4-.92-.59-1.43-.59-.52 0-1.04.2-1.43.59L10.3 9.45l-7.72 7.72c-.78.78-.78 2.05 0 2.83L4 21.41c.39.39.9.59 1.41.59.51 0 1.02-.2 1.41-.59l7.78-7.78 2.81-2.81c.8-.78.8-2.07 0-2.86zM5.41 20L4 18.59l7.72-7.72 1.47 1.35L5.41 20z\"/>\n",
              "  </svg>\n",
              "      </button>\n",
              "      \n",
              "  <style>\n",
              "    .colab-df-container {\n",
              "      display:flex;\n",
              "      flex-wrap:wrap;\n",
              "      gap: 12px;\n",
              "    }\n",
              "\n",
              "    .colab-df-convert {\n",
              "      background-color: #E8F0FE;\n",
              "      border: none;\n",
              "      border-radius: 50%;\n",
              "      cursor: pointer;\n",
              "      display: none;\n",
              "      fill: #1967D2;\n",
              "      height: 32px;\n",
              "      padding: 0 0 0 0;\n",
              "      width: 32px;\n",
              "    }\n",
              "\n",
              "    .colab-df-convert:hover {\n",
              "      background-color: #E2EBFA;\n",
              "      box-shadow: 0px 1px 2px rgba(60, 64, 67, 0.3), 0px 1px 3px 1px rgba(60, 64, 67, 0.15);\n",
              "      fill: #174EA6;\n",
              "    }\n",
              "\n",
              "    [theme=dark] .colab-df-convert {\n",
              "      background-color: #3B4455;\n",
              "      fill: #D2E3FC;\n",
              "    }\n",
              "\n",
              "    [theme=dark] .colab-df-convert:hover {\n",
              "      background-color: #434B5C;\n",
              "      box-shadow: 0px 1px 3px 1px rgba(0, 0, 0, 0.15);\n",
              "      filter: drop-shadow(0px 1px 2px rgba(0, 0, 0, 0.3));\n",
              "      fill: #FFFFFF;\n",
              "    }\n",
              "  </style>\n",
              "\n",
              "      <script>\n",
              "        const buttonEl =\n",
              "          document.querySelector('#df-45ae0078-148f-4052-a070-6a21fd6dfc0f button.colab-df-convert');\n",
              "        buttonEl.style.display =\n",
              "          google.colab.kernel.accessAllowed ? 'block' : 'none';\n",
              "\n",
              "        async function convertToInteractive(key) {\n",
              "          const element = document.querySelector('#df-45ae0078-148f-4052-a070-6a21fd6dfc0f');\n",
              "          const dataTable =\n",
              "            await google.colab.kernel.invokeFunction('convertToInteractive',\n",
              "                                                     [key], {});\n",
              "          if (!dataTable) return;\n",
              "\n",
              "          const docLinkHtml = 'Like what you see? Visit the ' +\n",
              "            '<a target=\"_blank\" href=https://colab.research.google.com/notebooks/data_table.ipynb>data table notebook</a>'\n",
              "            + ' to learn more about interactive tables.';\n",
              "          element.innerHTML = '';\n",
              "          dataTable['output_type'] = 'display_data';\n",
              "          await google.colab.output.renderOutput(dataTable, element);\n",
              "          const docLink = document.createElement('div');\n",
              "          docLink.innerHTML = docLinkHtml;\n",
              "          element.appendChild(docLink);\n",
              "        }\n",
              "      </script>\n",
              "    </div>\n",
              "  </div>\n",
              "  "
            ]
          },
          "metadata": {},
          "execution_count": 21
        }
      ]
    },
    {
      "cell_type": "code",
      "source": [
        "y=[]\n",
        "for j in range(10):\n",
        "  x=[]\n",
        "  for i in range(10):\n",
        "    a=confusion_matrix[(confusion_matrix[\"y_hat\"]==j)\n",
        "    &(confusion_matrix[\"labels\"]==i)].shape[0]\n",
        "    x.append(a)\n",
        "  y.append(x)\n",
        "y"
      ],
      "metadata": {
        "id": "67p4PshwkAl3",
        "outputId": "14bc5e9b-ec00-4bb4-ffe5-a4fe99b702e7",
        "colab": {
          "base_uri": "https://localhost:8080/",
          "height": 0
        }
      },
      "execution_count": 22,
      "outputs": [
        {
          "output_type": "execute_result",
          "data": {
            "text/plain": [
              "[[939, 0, 3, 3, 0, 4, 10, 0, 6, 4],\n",
              " [0, 546, 0, 0, 0, 0, 0, 0, 0, 0],\n",
              " [9, 50, 984, 24, 24, 9, 13, 17, 20, 6],\n",
              " [6, 4, 10, 908, 1, 42, 0, 12, 23, 13],\n",
              " [0, 8, 1, 1, 923, 2, 5, 24, 3, 36],\n",
              " [5, 0, 0, 10, 0, 748, 21, 1, 6, 1],\n",
              " [3, 7, 1, 0, 1, 6, 880, 0, 0, 0],\n",
              " [1, 0, 3, 4, 5, 1, 0, 903, 4, 23],\n",
              " [17, 520, 30, 57, 22, 76, 29, 32, 910, 52],\n",
              " [0, 0, 0, 3, 6, 4, 0, 39, 2, 874]]"
            ]
          },
          "metadata": {},
          "execution_count": 22
        }
      ]
    },
    {
      "cell_type": "code",
      "source": [
        "confusion_matrix[(confusion_matrix[\"y_hat\"]==0)&(confusion_matrix[\"labels\"]==0)]"
      ],
      "metadata": {
        "colab": {
          "base_uri": "https://localhost:8080/",
          "height": 424
        },
        "id": "1hP3x8Ro8PgX",
        "outputId": "f769cf92-d554-415b-a59f-4b2cba5d6116"
      },
      "execution_count": 23,
      "outputs": [
        {
          "output_type": "execute_result",
          "data": {
            "text/plain": [
              "      y_hat  labels\n",
              "3         0       0\n",
              "10        0       0\n",
              "13        0       0\n",
              "25        0       0\n",
              "28        0       0\n",
              "...     ...     ...\n",
              "9952      0       0\n",
              "9962      0       0\n",
              "9964      0       0\n",
              "9983      0       0\n",
              "9993      0       0\n",
              "\n",
              "[939 rows x 2 columns]"
            ],
            "text/html": [
              "\n",
              "  <div id=\"df-e31f5de6-83b6-4145-9149-f16f859defc0\">\n",
              "    <div class=\"colab-df-container\">\n",
              "      <div>\n",
              "<style scoped>\n",
              "    .dataframe tbody tr th:only-of-type {\n",
              "        vertical-align: middle;\n",
              "    }\n",
              "\n",
              "    .dataframe tbody tr th {\n",
              "        vertical-align: top;\n",
              "    }\n",
              "\n",
              "    .dataframe thead th {\n",
              "        text-align: right;\n",
              "    }\n",
              "</style>\n",
              "<table border=\"1\" class=\"dataframe\">\n",
              "  <thead>\n",
              "    <tr style=\"text-align: right;\">\n",
              "      <th></th>\n",
              "      <th>y_hat</th>\n",
              "      <th>labels</th>\n",
              "    </tr>\n",
              "  </thead>\n",
              "  <tbody>\n",
              "    <tr>\n",
              "      <th>3</th>\n",
              "      <td>0</td>\n",
              "      <td>0</td>\n",
              "    </tr>\n",
              "    <tr>\n",
              "      <th>10</th>\n",
              "      <td>0</td>\n",
              "      <td>0</td>\n",
              "    </tr>\n",
              "    <tr>\n",
              "      <th>13</th>\n",
              "      <td>0</td>\n",
              "      <td>0</td>\n",
              "    </tr>\n",
              "    <tr>\n",
              "      <th>25</th>\n",
              "      <td>0</td>\n",
              "      <td>0</td>\n",
              "    </tr>\n",
              "    <tr>\n",
              "      <th>28</th>\n",
              "      <td>0</td>\n",
              "      <td>0</td>\n",
              "    </tr>\n",
              "    <tr>\n",
              "      <th>...</th>\n",
              "      <td>...</td>\n",
              "      <td>...</td>\n",
              "    </tr>\n",
              "    <tr>\n",
              "      <th>9952</th>\n",
              "      <td>0</td>\n",
              "      <td>0</td>\n",
              "    </tr>\n",
              "    <tr>\n",
              "      <th>9962</th>\n",
              "      <td>0</td>\n",
              "      <td>0</td>\n",
              "    </tr>\n",
              "    <tr>\n",
              "      <th>9964</th>\n",
              "      <td>0</td>\n",
              "      <td>0</td>\n",
              "    </tr>\n",
              "    <tr>\n",
              "      <th>9983</th>\n",
              "      <td>0</td>\n",
              "      <td>0</td>\n",
              "    </tr>\n",
              "    <tr>\n",
              "      <th>9993</th>\n",
              "      <td>0</td>\n",
              "      <td>0</td>\n",
              "    </tr>\n",
              "  </tbody>\n",
              "</table>\n",
              "<p>939 rows × 2 columns</p>\n",
              "</div>\n",
              "      <button class=\"colab-df-convert\" onclick=\"convertToInteractive('df-e31f5de6-83b6-4145-9149-f16f859defc0')\"\n",
              "              title=\"Convert this dataframe to an interactive table.\"\n",
              "              style=\"display:none;\">\n",
              "        \n",
              "  <svg xmlns=\"http://www.w3.org/2000/svg\" height=\"24px\"viewBox=\"0 0 24 24\"\n",
              "       width=\"24px\">\n",
              "    <path d=\"M0 0h24v24H0V0z\" fill=\"none\"/>\n",
              "    <path d=\"M18.56 5.44l.94 2.06.94-2.06 2.06-.94-2.06-.94-.94-2.06-.94 2.06-2.06.94zm-11 1L8.5 8.5l.94-2.06 2.06-.94-2.06-.94L8.5 2.5l-.94 2.06-2.06.94zm10 10l.94 2.06.94-2.06 2.06-.94-2.06-.94-.94-2.06-.94 2.06-2.06.94z\"/><path d=\"M17.41 7.96l-1.37-1.37c-.4-.4-.92-.59-1.43-.59-.52 0-1.04.2-1.43.59L10.3 9.45l-7.72 7.72c-.78.78-.78 2.05 0 2.83L4 21.41c.39.39.9.59 1.41.59.51 0 1.02-.2 1.41-.59l7.78-7.78 2.81-2.81c.8-.78.8-2.07 0-2.86zM5.41 20L4 18.59l7.72-7.72 1.47 1.35L5.41 20z\"/>\n",
              "  </svg>\n",
              "      </button>\n",
              "      \n",
              "  <style>\n",
              "    .colab-df-container {\n",
              "      display:flex;\n",
              "      flex-wrap:wrap;\n",
              "      gap: 12px;\n",
              "    }\n",
              "\n",
              "    .colab-df-convert {\n",
              "      background-color: #E8F0FE;\n",
              "      border: none;\n",
              "      border-radius: 50%;\n",
              "      cursor: pointer;\n",
              "      display: none;\n",
              "      fill: #1967D2;\n",
              "      height: 32px;\n",
              "      padding: 0 0 0 0;\n",
              "      width: 32px;\n",
              "    }\n",
              "\n",
              "    .colab-df-convert:hover {\n",
              "      background-color: #E2EBFA;\n",
              "      box-shadow: 0px 1px 2px rgba(60, 64, 67, 0.3), 0px 1px 3px 1px rgba(60, 64, 67, 0.15);\n",
              "      fill: #174EA6;\n",
              "    }\n",
              "\n",
              "    [theme=dark] .colab-df-convert {\n",
              "      background-color: #3B4455;\n",
              "      fill: #D2E3FC;\n",
              "    }\n",
              "\n",
              "    [theme=dark] .colab-df-convert:hover {\n",
              "      background-color: #434B5C;\n",
              "      box-shadow: 0px 1px 3px 1px rgba(0, 0, 0, 0.15);\n",
              "      filter: drop-shadow(0px 1px 2px rgba(0, 0, 0, 0.3));\n",
              "      fill: #FFFFFF;\n",
              "    }\n",
              "  </style>\n",
              "\n",
              "      <script>\n",
              "        const buttonEl =\n",
              "          document.querySelector('#df-e31f5de6-83b6-4145-9149-f16f859defc0 button.colab-df-convert');\n",
              "        buttonEl.style.display =\n",
              "          google.colab.kernel.accessAllowed ? 'block' : 'none';\n",
              "\n",
              "        async function convertToInteractive(key) {\n",
              "          const element = document.querySelector('#df-e31f5de6-83b6-4145-9149-f16f859defc0');\n",
              "          const dataTable =\n",
              "            await google.colab.kernel.invokeFunction('convertToInteractive',\n",
              "                                                     [key], {});\n",
              "          if (!dataTable) return;\n",
              "\n",
              "          const docLinkHtml = 'Like what you see? Visit the ' +\n",
              "            '<a target=\"_blank\" href=https://colab.research.google.com/notebooks/data_table.ipynb>data table notebook</a>'\n",
              "            + ' to learn more about interactive tables.';\n",
              "          element.innerHTML = '';\n",
              "          dataTable['output_type'] = 'display_data';\n",
              "          await google.colab.output.renderOutput(dataTable, element);\n",
              "          const docLink = document.createElement('div');\n",
              "          docLink.innerHTML = docLinkHtml;\n",
              "          element.appendChild(docLink);\n",
              "        }\n",
              "      </script>\n",
              "    </div>\n",
              "  </div>\n",
              "  "
            ]
          },
          "metadata": {},
          "execution_count": 23
        }
      ]
    },
    {
      "cell_type": "code",
      "source": [
        "confusion_matrix=pd.DataFrame(y)"
      ],
      "metadata": {
        "id": "jqQqh5Pdm9Rn"
      },
      "execution_count": 22,
      "outputs": []
    },
    {
      "cell_type": "code",
      "source": [
        "import seaborn as sn\n",
        "sn.heatmap(confusion_matrix, annot=True, cmap=\"YlGnBu\", fmt=\"d\");"
      ],
      "metadata": {
        "id": "otaF7eHkpHsT",
        "outputId": "ac24050d-a72f-49bc-ff24-bb0fc8ecb4ce",
        "colab": {
          "base_uri": "https://localhost:8080/",
          "height": 460
        }
      },
      "execution_count": 86,
      "outputs": [
        {
          "output_type": "display_data",
          "data": {
            "text/plain": [
              "<Figure size 576x396 with 2 Axes>"
            ],
            "image/svg+xml": "<?xml version=\"1.0\" encoding=\"utf-8\" standalone=\"no\"?>\n<!DOCTYPE svg PUBLIC \"-//W3C//DTD SVG 1.1//EN\"\n  \"http://www.w3.org/Graphics/SVG/1.1/DTD/svg11.dtd\">\n<!-- Created with matplotlib (https://matplotlib.org/) -->\n<svg height=\"329.701875pt\" version=\"1.1\" viewBox=\"0 0 448.793688 329.701875\" width=\"448.793688pt\" xmlns=\"http://www.w3.org/2000/svg\" xmlns:xlink=\"http://www.w3.org/1999/xlink\">\n <defs>\n  <style type=\"text/css\">\n*{stroke-linecap:butt;stroke-linejoin:round;}\n  </style>\n </defs>\n <g id=\"figure_1\">\n  <g id=\"patch_1\">\n   <path d=\"M 0 329.701875 \nL 448.793688 329.701875 \nL 448.793688 0 \nL 0 0 \nz\n\" style=\"fill:#ffffff;\"/>\n  </g>\n  <g id=\"axes_1\">\n   <g id=\"patch_2\">\n    <path d=\"M 23.521875 306.18 \nL 380.641875 306.18 \nL 380.641875 7.2 \nL 23.521875 7.2 \nz\n\" style=\"fill:#eaeaf2;\"/>\n   </g>\n   <g id=\"matplotlib.axis_1\">\n    <g id=\"xtick_1\">\n     <g id=\"line2d_1\"/>\n     <g id=\"text_1\">\n      <!-- 0 -->\n      <defs>\n       <path d=\"M 51.703125 34.421875 \nQ 51.703125 24.515625 49.828125 17.75 \nQ 47.953125 10.984375 44.703125 6.8125 \nQ 41.453125 2.640625 37.0625 0.828125 \nQ 32.671875 -0.984375 27.6875 -0.984375 \nQ 22.65625 -0.984375 18.3125 0.828125 \nQ 13.96875 2.640625 10.765625 6.78125 \nQ 7.5625 10.9375 5.734375 17.703125 \nQ 3.90625 24.46875 3.90625 34.421875 \nQ 3.90625 44.828125 5.734375 51.640625 \nQ 7.5625 58.453125 10.78125 62.5 \nQ 14.015625 66.546875 18.40625 68.1875 \nQ 22.796875 69.828125 27.984375 69.828125 \nQ 32.90625 69.828125 37.21875 68.1875 \nQ 41.546875 66.546875 44.765625 62.5 \nQ 48 58.453125 49.84375 51.640625 \nQ 51.703125 44.828125 51.703125 34.421875 \nz\nM 42.78125 34.421875 \nQ 42.78125 42.625 41.796875 48.0625 \nQ 40.828125 53.515625 38.921875 56.765625 \nQ 37.015625 60.015625 34.25 61.359375 \nQ 31.5 62.703125 27.984375 62.703125 \nQ 24.265625 62.703125 21.4375 61.328125 \nQ 18.609375 59.96875 16.671875 56.71875 \nQ 14.75 53.46875 13.765625 48.015625 \nQ 12.796875 42.578125 12.796875 34.421875 \nQ 12.796875 26.515625 13.796875 21.09375 \nQ 14.796875 15.671875 16.71875 12.375 \nQ 18.65625 9.078125 21.4375 7.640625 \nQ 24.21875 6.203125 27.78125 6.203125 \nQ 31.25 6.203125 34.03125 7.640625 \nQ 36.8125 9.078125 38.734375 12.375 \nQ 40.671875 15.671875 41.71875 21.09375 \nQ 42.78125 26.515625 42.78125 34.421875 \nz\n\" id=\"LiberationSans-48\"/>\n      </defs>\n      <g style=\"fill:#262626;\" transform=\"translate(38.597406 320.426875)scale(0.1 -0.1)\">\n       <use xlink:href=\"#LiberationSans-48\"/>\n      </g>\n     </g>\n    </g>\n    <g id=\"xtick_2\">\n     <g id=\"line2d_2\"/>\n     <g id=\"text_2\">\n      <!-- 1 -->\n      <defs>\n       <path d=\"M 7.625 0 \nL 7.625 7.46875 \nL 25.140625 7.46875 \nL 25.140625 60.40625 \nL 9.625 49.3125 \nL 9.625 57.625 \nL 25.875 68.796875 \nL 33.984375 68.796875 \nL 33.984375 7.46875 \nL 50.734375 7.46875 \nL 50.734375 0 \nz\n\" id=\"LiberationSans-49\"/>\n      </defs>\n      <g style=\"fill:#262626;\" transform=\"translate(74.309406 320.426875)scale(0.1 -0.1)\">\n       <use xlink:href=\"#LiberationSans-49\"/>\n      </g>\n     </g>\n    </g>\n    <g id=\"xtick_3\">\n     <g id=\"line2d_3\"/>\n     <g id=\"text_3\">\n      <!-- 2 -->\n      <defs>\n       <path d=\"M 5.03125 0 \nL 5.03125 6.203125 \nQ 7.515625 11.921875 11.109375 16.28125 \nQ 14.703125 20.65625 18.65625 24.1875 \nQ 22.609375 27.734375 26.484375 30.765625 \nQ 30.375 33.796875 33.5 36.8125 \nQ 36.625 39.84375 38.546875 43.15625 \nQ 40.484375 46.484375 40.484375 50.6875 \nQ 40.484375 53.609375 39.59375 55.828125 \nQ 38.71875 58.0625 37.0625 59.5625 \nQ 35.40625 61.078125 33.078125 61.828125 \nQ 30.765625 62.59375 27.9375 62.59375 \nQ 25.296875 62.59375 22.96875 61.859375 \nQ 20.65625 61.140625 18.84375 59.671875 \nQ 17.046875 58.203125 15.890625 56.03125 \nQ 14.75 53.859375 14.40625 50.984375 \nL 5.421875 51.8125 \nQ 5.859375 55.515625 7.46875 58.78125 \nQ 9.078125 62.0625 11.90625 64.53125 \nQ 14.75 67 18.71875 68.40625 \nQ 22.703125 69.828125 27.9375 69.828125 \nQ 33.0625 69.828125 37.0625 68.609375 \nQ 41.0625 67.390625 43.8125 64.984375 \nQ 46.578125 62.59375 48.046875 59.078125 \nQ 49.515625 55.5625 49.515625 50.984375 \nQ 49.515625 47.515625 48.265625 44.390625 \nQ 47.015625 41.265625 44.9375 38.421875 \nQ 42.875 35.59375 40.140625 32.953125 \nQ 37.40625 30.328125 34.421875 27.8125 \nQ 31.453125 25.296875 28.421875 22.828125 \nQ 25.390625 20.359375 22.71875 17.859375 \nQ 20.0625 15.375 17.96875 12.8125 \nQ 15.875 10.25 14.703125 7.46875 \nL 50.59375 7.46875 \nL 50.59375 0 \nz\n\" id=\"LiberationSans-50\"/>\n      </defs>\n      <g style=\"fill:#262626;\" transform=\"translate(110.021406 320.426875)scale(0.1 -0.1)\">\n       <use xlink:href=\"#LiberationSans-50\"/>\n      </g>\n     </g>\n    </g>\n    <g id=\"xtick_4\">\n     <g id=\"line2d_4\"/>\n     <g id=\"text_4\">\n      <!-- 3 -->\n      <defs>\n       <path d=\"M 51.21875 19 \nQ 51.21875 14.265625 49.671875 10.546875 \nQ 48.140625 6.84375 45.1875 4.265625 \nQ 42.234375 1.703125 37.859375 0.359375 \nQ 33.5 -0.984375 27.875 -0.984375 \nQ 21.484375 -0.984375 17.109375 0.609375 \nQ 12.75 2.203125 9.90625 4.8125 \nQ 7.078125 7.421875 5.65625 10.765625 \nQ 4.25 14.109375 3.8125 17.671875 \nL 12.890625 18.5 \nQ 13.28125 15.765625 14.328125 13.515625 \nQ 15.375 11.28125 17.1875 9.671875 \nQ 19 8.0625 21.625 7.171875 \nQ 24.265625 6.296875 27.875 6.296875 \nQ 34.515625 6.296875 38.296875 9.5625 \nQ 42.09375 12.84375 42.09375 19.28125 \nQ 42.09375 23.09375 40.40625 25.40625 \nQ 38.71875 27.734375 36.203125 29.03125 \nQ 33.6875 30.328125 30.734375 30.765625 \nQ 27.78125 31.203125 25.296875 31.203125 \nL 20.3125 31.203125 \nL 20.3125 38.8125 \nL 25.09375 38.8125 \nQ 27.59375 38.8125 30.265625 39.328125 \nQ 32.953125 39.84375 35.171875 41.1875 \nQ 37.40625 42.53125 38.84375 44.828125 \nQ 40.28125 47.125 40.28125 50.6875 \nQ 40.28125 56.203125 37.03125 59.390625 \nQ 33.796875 62.59375 27.390625 62.59375 \nQ 21.578125 62.59375 17.984375 59.609375 \nQ 14.40625 56.640625 13.8125 51.21875 \nL 4.984375 51.90625 \nQ 5.515625 56.453125 7.46875 59.8125 \nQ 9.421875 63.1875 12.421875 65.40625 \nQ 15.4375 67.625 19.28125 68.71875 \nQ 23.140625 69.828125 27.484375 69.828125 \nQ 33.25 69.828125 37.390625 68.375 \nQ 41.546875 66.9375 44.1875 64.46875 \nQ 46.828125 62.015625 48.0625 58.6875 \nQ 49.3125 55.375 49.3125 51.609375 \nQ 49.3125 48.578125 48.484375 45.9375 \nQ 47.65625 43.3125 45.890625 41.203125 \nQ 44.140625 39.109375 41.421875 37.59375 \nQ 38.71875 36.078125 34.90625 35.296875 \nL 34.90625 35.109375 \nQ 39.0625 34.671875 42.140625 33.21875 \nQ 45.21875 31.78125 47.21875 29.625 \nQ 49.21875 27.484375 50.21875 24.75 \nQ 51.21875 22.015625 51.21875 19 \nz\n\" id=\"LiberationSans-51\"/>\n      </defs>\n      <g style=\"fill:#262626;\" transform=\"translate(145.733406 320.426875)scale(0.1 -0.1)\">\n       <use xlink:href=\"#LiberationSans-51\"/>\n      </g>\n     </g>\n    </g>\n    <g id=\"xtick_5\">\n     <g id=\"line2d_5\"/>\n     <g id=\"text_5\">\n      <!-- 4 -->\n      <defs>\n       <path d=\"M 43.015625 15.578125 \nL 43.015625 0 \nL 34.71875 0 \nL 34.71875 15.578125 \nL 2.296875 15.578125 \nL 2.296875 22.40625 \nL 33.796875 68.796875 \nL 43.015625 68.796875 \nL 43.015625 22.515625 \nL 52.6875 22.515625 \nL 52.6875 15.578125 \nz\nM 34.71875 58.890625 \nQ 34.625 58.640625 34.234375 57.9375 \nQ 33.84375 57.234375 33.34375 56.34375 \nQ 32.859375 55.46875 32.34375 54.5625 \nQ 31.84375 53.65625 31.453125 53.078125 \nL 13.8125 27.09375 \nQ 13.578125 26.703125 13.109375 26.0625 \nQ 12.640625 25.4375 12.15625 24.78125 \nQ 11.671875 24.125 11.171875 23.484375 \nQ 10.6875 22.859375 10.40625 22.515625 \nL 34.71875 22.515625 \nz\n\" id=\"LiberationSans-52\"/>\n      </defs>\n      <g style=\"fill:#262626;\" transform=\"translate(181.445406 320.426875)scale(0.1 -0.1)\">\n       <use xlink:href=\"#LiberationSans-52\"/>\n      </g>\n     </g>\n    </g>\n    <g id=\"xtick_6\">\n     <g id=\"line2d_6\"/>\n     <g id=\"text_6\">\n      <!-- 5 -->\n      <defs>\n       <path d=\"M 51.421875 22.40625 \nQ 51.421875 17.234375 49.859375 12.9375 \nQ 48.296875 8.640625 45.21875 5.53125 \nQ 42.140625 2.4375 37.578125 0.71875 \nQ 33.015625 -0.984375 27 -0.984375 \nQ 21.578125 -0.984375 17.546875 0.28125 \nQ 13.53125 1.5625 10.734375 3.78125 \nQ 7.953125 6 6.3125 8.984375 \nQ 4.6875 11.96875 4 15.375 \nL 12.890625 16.40625 \nQ 13.421875 14.453125 14.390625 12.625 \nQ 15.375 10.796875 17.0625 9.34375 \nQ 18.75 7.90625 21.21875 7.046875 \nQ 23.6875 6.203125 27.203125 6.203125 \nQ 30.609375 6.203125 33.390625 7.25 \nQ 36.1875 8.296875 38.15625 10.34375 \nQ 40.140625 12.40625 41.203125 15.375 \nQ 42.28125 18.359375 42.28125 22.21875 \nQ 42.28125 25.390625 41.25 28.046875 \nQ 40.234375 30.71875 38.328125 32.640625 \nQ 36.421875 34.578125 33.65625 35.640625 \nQ 30.90625 36.71875 27.390625 36.71875 \nQ 25.203125 36.71875 23.34375 36.328125 \nQ 21.484375 35.9375 19.890625 35.25 \nQ 18.3125 34.578125 17.015625 33.671875 \nQ 15.71875 32.765625 14.59375 31.78125 \nL 6 31.78125 \nL 8.296875 68.796875 \nL 47.40625 68.796875 \nL 47.40625 61.328125 \nL 16.3125 61.328125 \nL 14.984375 39.5 \nQ 17.328125 41.3125 20.84375 42.59375 \nQ 24.359375 43.890625 29.203125 43.890625 \nQ 34.328125 43.890625 38.421875 42.328125 \nQ 42.53125 40.765625 45.40625 37.90625 \nQ 48.296875 35.0625 49.859375 31.109375 \nQ 51.421875 27.15625 51.421875 22.40625 \nz\n\" id=\"LiberationSans-53\"/>\n      </defs>\n      <g style=\"fill:#262626;\" transform=\"translate(217.157406 320.426875)scale(0.1 -0.1)\">\n       <use xlink:href=\"#LiberationSans-53\"/>\n      </g>\n     </g>\n    </g>\n    <g id=\"xtick_7\">\n     <g id=\"line2d_7\"/>\n     <g id=\"text_7\">\n      <!-- 6 -->\n      <defs>\n       <path d=\"M 51.21875 22.515625 \nQ 51.21875 17.328125 49.78125 13 \nQ 48.34375 8.6875 45.53125 5.578125 \nQ 42.71875 2.484375 38.5625 0.75 \nQ 34.421875 -0.984375 29 -0.984375 \nQ 23 -0.984375 18.5 1.3125 \nQ 14.015625 3.609375 11.03125 7.921875 \nQ 8.0625 12.25 6.5625 18.53125 \nQ 5.078125 24.8125 5.078125 32.8125 \nQ 5.078125 42 6.765625 48.921875 \nQ 8.453125 55.859375 11.625 60.5 \nQ 14.796875 65.140625 19.359375 67.484375 \nQ 23.921875 69.828125 29.6875 69.828125 \nQ 33.203125 69.828125 36.28125 69.09375 \nQ 39.359375 68.359375 41.875 66.71875 \nQ 44.390625 65.09375 46.28125 62.40625 \nQ 48.1875 59.71875 49.3125 55.8125 \nL 40.921875 54.296875 \nQ 39.546875 58.734375 36.546875 60.71875 \nQ 33.546875 62.703125 29.59375 62.703125 \nQ 25.984375 62.703125 23.046875 60.984375 \nQ 20.125 59.28125 18.0625 55.875 \nQ 16.015625 52.484375 14.90625 47.359375 \nQ 13.8125 42.234375 13.8125 35.40625 \nQ 16.21875 39.84375 20.5625 42.15625 \nQ 24.90625 44.484375 30.515625 44.484375 \nQ 35.203125 44.484375 39.015625 42.96875 \nQ 42.828125 41.453125 45.53125 38.59375 \nQ 48.25 35.75 49.734375 31.671875 \nQ 51.21875 27.59375 51.21875 22.515625 \nz\nM 42.28125 22.125 \nQ 42.28125 25.6875 41.40625 28.5625 \nQ 40.53125 31.453125 38.765625 33.46875 \nQ 37.015625 35.5 34.421875 36.59375 \nQ 31.84375 37.703125 28.421875 37.703125 \nQ 26.03125 37.703125 23.578125 36.984375 \nQ 21.140625 36.28125 19.15625 34.6875 \nQ 17.1875 33.109375 15.9375 30.515625 \nQ 14.703125 27.9375 14.703125 24.21875 \nQ 14.703125 20.40625 15.671875 17.109375 \nQ 16.65625 13.8125 18.484375 11.375 \nQ 20.3125 8.9375 22.890625 7.515625 \nQ 25.484375 6.109375 28.71875 6.109375 \nQ 31.890625 6.109375 34.40625 7.203125 \nQ 36.921875 8.296875 38.671875 10.375 \nQ 40.4375 12.453125 41.359375 15.421875 \nQ 42.28125 18.40625 42.28125 22.125 \nz\n\" id=\"LiberationSans-54\"/>\n      </defs>\n      <g style=\"fill:#262626;\" transform=\"translate(252.869406 320.426875)scale(0.1 -0.1)\">\n       <use xlink:href=\"#LiberationSans-54\"/>\n      </g>\n     </g>\n    </g>\n    <g id=\"xtick_8\">\n     <g id=\"line2d_8\"/>\n     <g id=\"text_8\">\n      <!-- 7 -->\n      <defs>\n       <path d=\"M 50.59375 61.671875 \nQ 45.40625 53.765625 41.0625 46.453125 \nQ 36.71875 39.15625 33.59375 31.75 \nQ 30.46875 24.359375 28.734375 16.578125 \nQ 27 8.796875 27 0 \nL 17.828125 0 \nQ 17.828125 8.25 19.78125 16.1875 \nQ 21.734375 24.125 25.046875 31.765625 \nQ 28.375 39.40625 32.765625 46.78125 \nQ 37.15625 54.15625 42.09375 61.328125 \nL 5.125 61.328125 \nL 5.125 68.796875 \nL 50.59375 68.796875 \nz\n\" id=\"LiberationSans-55\"/>\n      </defs>\n      <g style=\"fill:#262626;\" transform=\"translate(288.581406 320.426875)scale(0.1 -0.1)\">\n       <use xlink:href=\"#LiberationSans-55\"/>\n      </g>\n     </g>\n    </g>\n    <g id=\"xtick_9\">\n     <g id=\"line2d_9\"/>\n     <g id=\"text_9\">\n      <!-- 8 -->\n      <defs>\n       <path d=\"M 51.265625 19.1875 \nQ 51.265625 14.796875 49.875 11.109375 \nQ 48.484375 7.421875 45.625 4.734375 \nQ 42.78125 2.046875 38.328125 0.53125 \nQ 33.890625 -0.984375 27.828125 -0.984375 \nQ 21.78125 -0.984375 17.359375 0.53125 \nQ 12.9375 2.046875 10.03125 4.703125 \nQ 7.125 7.375 5.734375 11.0625 \nQ 4.34375 14.75 4.34375 19.09375 \nQ 4.34375 22.859375 5.484375 25.78125 \nQ 6.640625 28.71875 8.5625 30.828125 \nQ 10.5 32.953125 12.96875 34.25 \nQ 15.4375 35.546875 18.0625 35.984375 \nL 18.0625 36.1875 \nQ 15.1875 36.859375 12.90625 38.375 \nQ 10.640625 39.890625 9.09375 42.015625 \nQ 7.5625 44.140625 6.75 46.71875 \nQ 5.953125 49.3125 5.953125 52.203125 \nQ 5.953125 55.8125 7.34375 59 \nQ 8.734375 62.203125 11.46875 64.625 \nQ 14.203125 67.046875 18.25 68.4375 \nQ 22.3125 69.828125 27.640625 69.828125 \nQ 33.25 69.828125 37.375 68.40625 \nQ 41.5 67 44.203125 64.578125 \nQ 46.921875 62.15625 48.234375 58.9375 \nQ 49.5625 55.71875 49.5625 52.09375 \nQ 49.5625 49.265625 48.75 46.671875 \nQ 47.953125 44.09375 46.40625 41.96875 \nQ 44.875 39.84375 42.59375 38.34375 \nQ 40.328125 36.859375 37.359375 36.28125 \nL 37.359375 36.078125 \nQ 40.328125 35.59375 42.859375 34.296875 \nQ 45.40625 33.015625 47.265625 30.890625 \nQ 49.125 28.765625 50.1875 25.828125 \nQ 51.265625 22.90625 51.265625 19.1875 \nz\nM 40.4375 51.609375 \nQ 40.4375 54.203125 39.765625 56.34375 \nQ 39.109375 58.5 37.59375 60.03125 \nQ 36.078125 61.578125 33.640625 62.421875 \nQ 31.203125 63.28125 27.640625 63.28125 \nQ 24.171875 63.28125 21.78125 62.421875 \nQ 19.390625 61.578125 17.84375 60.03125 \nQ 16.3125 58.5 15.625 56.34375 \nQ 14.9375 54.203125 14.9375 51.609375 \nQ 14.9375 49.5625 15.46875 47.40625 \nQ 16.015625 45.265625 17.421875 43.5 \nQ 18.84375 41.75 21.328125 40.625 \nQ 23.828125 39.5 27.734375 39.5 \nQ 31.890625 39.5 34.40625 40.625 \nQ 36.921875 41.75 38.25 43.5 \nQ 39.59375 45.265625 40.015625 47.40625 \nQ 40.4375 49.5625 40.4375 51.609375 \nz\nM 42.140625 20.015625 \nQ 42.140625 22.515625 41.453125 24.828125 \nQ 40.765625 27.15625 39.109375 28.9375 \nQ 37.453125 30.71875 34.640625 31.8125 \nQ 31.84375 32.90625 27.640625 32.90625 \nQ 23.78125 32.90625 21.0625 31.8125 \nQ 18.359375 30.71875 16.671875 28.90625 \nQ 14.984375 27.09375 14.203125 24.71875 \nQ 13.421875 22.359375 13.421875 19.828125 \nQ 13.421875 16.65625 14.203125 14.03125 \nQ 14.984375 11.421875 16.6875 9.546875 \nQ 18.40625 7.671875 21.1875 6.640625 \nQ 23.96875 5.609375 27.9375 5.609375 \nQ 31.9375 5.609375 34.671875 6.640625 \nQ 37.40625 7.671875 39.0625 9.546875 \nQ 40.71875 11.421875 41.421875 14.078125 \nQ 42.140625 16.75 42.140625 20.015625 \nz\n\" id=\"LiberationSans-56\"/>\n      </defs>\n      <g style=\"fill:#262626;\" transform=\"translate(324.293406 320.426875)scale(0.1 -0.1)\">\n       <use xlink:href=\"#LiberationSans-56\"/>\n      </g>\n     </g>\n    </g>\n    <g id=\"xtick_10\">\n     <g id=\"line2d_10\"/>\n     <g id=\"text_10\">\n      <!-- 9 -->\n      <defs>\n       <path d=\"M 50.875 35.796875 \nQ 50.875 26.609375 49.140625 19.703125 \nQ 47.40625 12.796875 44.1875 8.203125 \nQ 40.96875 3.609375 36.34375 1.3125 \nQ 31.734375 -0.984375 25.984375 -0.984375 \nQ 22.015625 -0.984375 18.84375 -0.171875 \nQ 15.671875 0.640625 13.171875 2.34375 \nQ 10.6875 4.046875 8.921875 6.78125 \nQ 7.171875 9.515625 6.109375 13.375 \nL 14.5 14.703125 \nQ 15.875 10.25 18.78125 8.171875 \nQ 21.6875 6.109375 26.125 6.109375 \nQ 29.6875 6.109375 32.640625 7.78125 \nQ 35.59375 9.46875 37.671875 12.84375 \nQ 39.75 16.21875 40.921875 21.296875 \nQ 42.09375 26.375 42.1875 33.203125 \nQ 41.15625 30.90625 39.375 29.09375 \nQ 37.59375 27.296875 35.328125 26.046875 \nQ 33.0625 24.8125 30.421875 24.140625 \nQ 27.78125 23.484375 25.09375 23.484375 \nQ 20.40625 23.484375 16.625 25.171875 \nQ 12.84375 26.859375 10.203125 29.875 \nQ 7.5625 32.90625 6.125 37.171875 \nQ 4.6875 41.453125 4.6875 46.6875 \nQ 4.6875 52 6.21875 56.296875 \nQ 7.765625 60.59375 10.6875 63.59375 \nQ 13.625 66.609375 17.890625 68.21875 \nQ 22.171875 69.828125 27.59375 69.828125 \nQ 39.0625 69.828125 44.96875 61.328125 \nQ 50.875 52.828125 50.875 35.796875 \nz\nM 41.3125 44.28125 \nQ 41.3125 48.09375 40.40625 51.453125 \nQ 39.5 54.828125 37.71875 57.3125 \nQ 35.9375 59.8125 33.328125 61.25 \nQ 30.71875 62.703125 27.296875 62.703125 \nQ 24.125 62.703125 21.578125 61.578125 \nQ 19.046875 60.453125 17.28125 58.375 \nQ 15.53125 56.296875 14.578125 53.3125 \nQ 13.625 50.34375 13.625 46.6875 \nQ 13.625 43.21875 14.46875 40.234375 \nQ 15.328125 37.25 17.03125 35.078125 \nQ 18.75 32.90625 21.28125 31.65625 \nQ 23.828125 30.421875 27.203125 30.421875 \nQ 29.640625 30.421875 32.15625 31.25 \nQ 34.671875 32.078125 36.6875 33.78125 \nQ 38.71875 35.5 40.015625 38.109375 \nQ 41.3125 40.71875 41.3125 44.28125 \nz\n\" id=\"LiberationSans-57\"/>\n      </defs>\n      <g style=\"fill:#262626;\" transform=\"translate(360.005406 320.426875)scale(0.1 -0.1)\">\n       <use xlink:href=\"#LiberationSans-57\"/>\n      </g>\n     </g>\n    </g>\n   </g>\n   <g id=\"matplotlib.axis_2\">\n    <g id=\"ytick_1\">\n     <g id=\"line2d_11\"/>\n     <g id=\"text_11\">\n      <!-- 0 -->\n      <g style=\"fill:#262626;\" transform=\"translate(14.446875 24.929469)rotate(-90)scale(0.1 -0.1)\">\n       <use xlink:href=\"#LiberationSans-48\"/>\n      </g>\n     </g>\n    </g>\n    <g id=\"ytick_2\">\n     <g id=\"line2d_12\"/>\n     <g id=\"text_12\">\n      <!-- 1 -->\n      <g style=\"fill:#262626;\" transform=\"translate(14.446875 54.827469)rotate(-90)scale(0.1 -0.1)\">\n       <use xlink:href=\"#LiberationSans-49\"/>\n      </g>\n     </g>\n    </g>\n    <g id=\"ytick_3\">\n     <g id=\"line2d_13\"/>\n     <g id=\"text_13\">\n      <!-- 2 -->\n      <g style=\"fill:#262626;\" transform=\"translate(14.446875 84.725469)rotate(-90)scale(0.1 -0.1)\">\n       <use xlink:href=\"#LiberationSans-50\"/>\n      </g>\n     </g>\n    </g>\n    <g id=\"ytick_4\">\n     <g id=\"line2d_14\"/>\n     <g id=\"text_14\">\n      <!-- 3 -->\n      <g style=\"fill:#262626;\" transform=\"translate(14.446875 114.623469)rotate(-90)scale(0.1 -0.1)\">\n       <use xlink:href=\"#LiberationSans-51\"/>\n      </g>\n     </g>\n    </g>\n    <g id=\"ytick_5\">\n     <g id=\"line2d_15\"/>\n     <g id=\"text_15\">\n      <!-- 4 -->\n      <g style=\"fill:#262626;\" transform=\"translate(14.446875 144.521469)rotate(-90)scale(0.1 -0.1)\">\n       <use xlink:href=\"#LiberationSans-52\"/>\n      </g>\n     </g>\n    </g>\n    <g id=\"ytick_6\">\n     <g id=\"line2d_16\"/>\n     <g id=\"text_16\">\n      <!-- 5 -->\n      <g style=\"fill:#262626;\" transform=\"translate(14.446875 174.419469)rotate(-90)scale(0.1 -0.1)\">\n       <use xlink:href=\"#LiberationSans-53\"/>\n      </g>\n     </g>\n    </g>\n    <g id=\"ytick_7\">\n     <g id=\"line2d_17\"/>\n     <g id=\"text_17\">\n      <!-- 6 -->\n      <g style=\"fill:#262626;\" transform=\"translate(14.446875 204.317469)rotate(-90)scale(0.1 -0.1)\">\n       <use xlink:href=\"#LiberationSans-54\"/>\n      </g>\n     </g>\n    </g>\n    <g id=\"ytick_8\">\n     <g id=\"line2d_18\"/>\n     <g id=\"text_18\">\n      <!-- 7 -->\n      <g style=\"fill:#262626;\" transform=\"translate(14.446875 234.215469)rotate(-90)scale(0.1 -0.1)\">\n       <use xlink:href=\"#LiberationSans-55\"/>\n      </g>\n     </g>\n    </g>\n    <g id=\"ytick_9\">\n     <g id=\"line2d_19\"/>\n     <g id=\"text_19\">\n      <!-- 8 -->\n      <g style=\"fill:#262626;\" transform=\"translate(14.446875 264.113469)rotate(-90)scale(0.1 -0.1)\">\n       <use xlink:href=\"#LiberationSans-56\"/>\n      </g>\n     </g>\n    </g>\n    <g id=\"ytick_10\">\n     <g id=\"line2d_20\"/>\n     <g id=\"text_20\">\n      <!-- 9 -->\n      <g style=\"fill:#262626;\" transform=\"translate(14.446875 294.011469)rotate(-90)scale(0.1 -0.1)\">\n       <use xlink:href=\"#LiberationSans-57\"/>\n      </g>\n     </g>\n    </g>\n   </g>\n   <g id=\"QuadMesh_1\">\n    <path clip-path=\"url(#p8a1b47bfcc)\" d=\"M 23.521875 7.2 \nL 59.233875 7.2 \nL 59.233875 37.098 \nL 23.521875 37.098 \nL 23.521875 7.2 \n\" style=\"fill:#12256d;\"/>\n    <path clip-path=\"url(#p8a1b47bfcc)\" d=\"M 59.233875 7.2 \nL 94.945875 7.2 \nL 94.945875 37.098 \nL 59.233875 37.098 \nL 59.233875 7.2 \n\" style=\"fill:#ffffd9;\"/>\n    <path clip-path=\"url(#p8a1b47bfcc)\" d=\"M 94.945875 7.2 \nL 130.657875 7.2 \nL 130.657875 37.098 \nL 94.945875 37.098 \nL 94.945875 7.2 \n\" style=\"fill:#ffffd9;\"/>\n    <path clip-path=\"url(#p8a1b47bfcc)\" d=\"M 130.657875 7.2 \nL 166.369875 7.2 \nL 166.369875 37.098 \nL 130.657875 37.098 \nL 130.657875 7.2 \n\" style=\"fill:#ffffd9;\"/>\n    <path clip-path=\"url(#p8a1b47bfcc)\" d=\"M 166.369875 7.2 \nL 202.081875 7.2 \nL 202.081875 37.098 \nL 166.369875 37.098 \nL 166.369875 7.2 \n\" style=\"fill:#ffffd9;\"/>\n    <path clip-path=\"url(#p8a1b47bfcc)\" d=\"M 202.081875 7.2 \nL 237.793875 7.2 \nL 237.793875 37.098 \nL 202.081875 37.098 \nL 202.081875 7.2 \n\" style=\"fill:#feffd8;\"/>\n    <path clip-path=\"url(#p8a1b47bfcc)\" d=\"M 237.793875 7.2 \nL 273.505875 7.2 \nL 273.505875 37.098 \nL 237.793875 37.098 \nL 237.793875 7.2 \n\" style=\"fill:#feffd6;\"/>\n    <path clip-path=\"url(#p8a1b47bfcc)\" d=\"M 273.505875 7.2 \nL 309.217875 7.2 \nL 309.217875 37.098 \nL 273.505875 37.098 \nL 273.505875 7.2 \n\" style=\"fill:#ffffd9;\"/>\n    <path clip-path=\"url(#p8a1b47bfcc)\" d=\"M 309.217875 7.2 \nL 344.929875 7.2 \nL 344.929875 37.098 \nL 309.217875 37.098 \nL 309.217875 7.2 \n\" style=\"fill:#feffd8;\"/>\n    <path clip-path=\"url(#p8a1b47bfcc)\" d=\"M 344.929875 7.2 \nL 380.641875 7.2 \nL 380.641875 37.098 \nL 344.929875 37.098 \nL 344.929875 7.2 \n\" style=\"fill:#feffd8;\"/>\n    <path clip-path=\"url(#p8a1b47bfcc)\" d=\"M 23.521875 37.098 \nL 59.233875 37.098 \nL 59.233875 66.996 \nL 23.521875 66.996 \nL 23.521875 37.098 \n\" style=\"fill:#ffffd9;\"/>\n    <path clip-path=\"url(#p8a1b47bfcc)\" d=\"M 59.233875 37.098 \nL 94.945875 37.098 \nL 94.945875 66.996 \nL 59.233875 66.996 \nL 59.233875 37.098 \n\" style=\"fill:#31a5c2;\"/>\n    <path clip-path=\"url(#p8a1b47bfcc)\" d=\"M 94.945875 37.098 \nL 130.657875 37.098 \nL 130.657875 66.996 \nL 94.945875 66.996 \nL 94.945875 37.098 \n\" style=\"fill:#ffffd9;\"/>\n    <path clip-path=\"url(#p8a1b47bfcc)\" d=\"M 130.657875 37.098 \nL 166.369875 37.098 \nL 166.369875 66.996 \nL 130.657875 66.996 \nL 130.657875 37.098 \n\" style=\"fill:#ffffd9;\"/>\n    <path clip-path=\"url(#p8a1b47bfcc)\" d=\"M 166.369875 37.098 \nL 202.081875 37.098 \nL 202.081875 66.996 \nL 166.369875 66.996 \nL 166.369875 37.098 \n\" style=\"fill:#ffffd9;\"/>\n    <path clip-path=\"url(#p8a1b47bfcc)\" d=\"M 202.081875 37.098 \nL 237.793875 37.098 \nL 237.793875 66.996 \nL 202.081875 66.996 \nL 202.081875 37.098 \n\" style=\"fill:#ffffd9;\"/>\n    <path clip-path=\"url(#p8a1b47bfcc)\" d=\"M 237.793875 37.098 \nL 273.505875 37.098 \nL 273.505875 66.996 \nL 237.793875 66.996 \nL 237.793875 37.098 \n\" style=\"fill:#ffffd9;\"/>\n    <path clip-path=\"url(#p8a1b47bfcc)\" d=\"M 273.505875 37.098 \nL 309.217875 37.098 \nL 309.217875 66.996 \nL 273.505875 66.996 \nL 273.505875 37.098 \n\" style=\"fill:#ffffd9;\"/>\n    <path clip-path=\"url(#p8a1b47bfcc)\" d=\"M 309.217875 37.098 \nL 344.929875 37.098 \nL 344.929875 66.996 \nL 309.217875 66.996 \nL 309.217875 37.098 \n\" style=\"fill:#ffffd9;\"/>\n    <path clip-path=\"url(#p8a1b47bfcc)\" d=\"M 344.929875 37.098 \nL 380.641875 37.098 \nL 380.641875 66.996 \nL 344.929875 66.996 \nL 344.929875 37.098 \n\" style=\"fill:#ffffd9;\"/>\n    <path clip-path=\"url(#p8a1b47bfcc)\" d=\"M 23.521875 66.996 \nL 59.233875 66.996 \nL 59.233875 96.894 \nL 23.521875 96.894 \nL 23.521875 66.996 \n\" style=\"fill:#feffd6;\"/>\n    <path clip-path=\"url(#p8a1b47bfcc)\" d=\"M 59.233875 66.996 \nL 94.945875 66.996 \nL 94.945875 96.894 \nL 59.233875 96.894 \nL 59.233875 66.996 \n\" style=\"fill:#f8fcc9;\"/>\n    <path clip-path=\"url(#p8a1b47bfcc)\" d=\"M 94.945875 66.996 \nL 130.657875 66.996 \nL 130.657875 96.894 \nL 94.945875 96.894 \nL 94.945875 66.996 \n\" style=\"fill:#081d58;\"/>\n    <path clip-path=\"url(#p8a1b47bfcc)\" d=\"M 130.657875 66.996 \nL 166.369875 66.996 \nL 166.369875 96.894 \nL 130.657875 96.894 \nL 130.657875 66.996 \n\" style=\"fill:#fcfed1;\"/>\n    <path clip-path=\"url(#p8a1b47bfcc)\" d=\"M 166.369875 66.996 \nL 202.081875 66.996 \nL 202.081875 96.894 \nL 166.369875 96.894 \nL 166.369875 66.996 \n\" style=\"fill:#fcfed1;\"/>\n    <path clip-path=\"url(#p8a1b47bfcc)\" d=\"M 202.081875 66.996 \nL 237.793875 66.996 \nL 237.793875 96.894 \nL 202.081875 96.894 \nL 202.081875 66.996 \n\" style=\"fill:#feffd6;\"/>\n    <path clip-path=\"url(#p8a1b47bfcc)\" d=\"M 237.793875 66.996 \nL 273.505875 66.996 \nL 273.505875 96.894 \nL 237.793875 96.894 \nL 237.793875 66.996 \n\" style=\"fill:#fdfed5;\"/>\n    <path clip-path=\"url(#p8a1b47bfcc)\" d=\"M 273.505875 66.996 \nL 309.217875 66.996 \nL 309.217875 96.894 \nL 273.505875 96.894 \nL 273.505875 66.996 \n\" style=\"fill:#fdfed4;\"/>\n    <path clip-path=\"url(#p8a1b47bfcc)\" d=\"M 309.217875 66.996 \nL 344.929875 66.996 \nL 344.929875 96.894 \nL 309.217875 96.894 \nL 309.217875 66.996 \n\" style=\"fill:#fcfed3;\"/>\n    <path clip-path=\"url(#p8a1b47bfcc)\" d=\"M 344.929875 66.996 \nL 380.641875 66.996 \nL 380.641875 96.894 \nL 344.929875 96.894 \nL 344.929875 66.996 \n\" style=\"fill:#feffd8;\"/>\n    <path clip-path=\"url(#p8a1b47bfcc)\" d=\"M 23.521875 96.894 \nL 59.233875 96.894 \nL 59.233875 126.792 \nL 23.521875 126.792 \nL 23.521875 96.894 \n\" style=\"fill:#feffd8;\"/>\n    <path clip-path=\"url(#p8a1b47bfcc)\" d=\"M 59.233875 96.894 \nL 94.945875 96.894 \nL 94.945875 126.792 \nL 59.233875 126.792 \nL 59.233875 96.894 \n\" style=\"fill:#feffd8;\"/>\n    <path clip-path=\"url(#p8a1b47bfcc)\" d=\"M 94.945875 96.894 \nL 130.657875 96.894 \nL 130.657875 126.792 \nL 94.945875 126.792 \nL 94.945875 96.894 \n\" style=\"fill:#feffd6;\"/>\n    <path clip-path=\"url(#p8a1b47bfcc)\" d=\"M 130.657875 96.894 \nL 166.369875 96.894 \nL 166.369875 126.792 \nL 130.657875 126.792 \nL 130.657875 96.894 \n\" style=\"fill:#192b7c;\"/>\n    <path clip-path=\"url(#p8a1b47bfcc)\" d=\"M 166.369875 96.894 \nL 202.081875 96.894 \nL 202.081875 126.792 \nL 166.369875 126.792 \nL 166.369875 96.894 \n\" style=\"fill:#ffffd9;\"/>\n    <path clip-path=\"url(#p8a1b47bfcc)\" d=\"M 202.081875 96.894 \nL 237.793875 96.894 \nL 237.793875 126.792 \nL 202.081875 126.792 \nL 202.081875 96.894 \n\" style=\"fill:#f9fdcc;\"/>\n    <path clip-path=\"url(#p8a1b47bfcc)\" d=\"M 237.793875 96.894 \nL 273.505875 96.894 \nL 273.505875 126.792 \nL 237.793875 126.792 \nL 237.793875 96.894 \n\" style=\"fill:#ffffd9;\"/>\n    <path clip-path=\"url(#p8a1b47bfcc)\" d=\"M 273.505875 96.894 \nL 309.217875 96.894 \nL 309.217875 126.792 \nL 273.505875 126.792 \nL 273.505875 96.894 \n\" style=\"fill:#fdfed5;\"/>\n    <path clip-path=\"url(#p8a1b47bfcc)\" d=\"M 309.217875 96.894 \nL 344.929875 96.894 \nL 344.929875 126.792 \nL 309.217875 126.792 \nL 309.217875 96.894 \n\" style=\"fill:#fcfed3;\"/>\n    <path clip-path=\"url(#p8a1b47bfcc)\" d=\"M 344.929875 96.894 \nL 380.641875 96.894 \nL 380.641875 126.792 \nL 344.929875 126.792 \nL 344.929875 96.894 \n\" style=\"fill:#fdfed5;\"/>\n    <path clip-path=\"url(#p8a1b47bfcc)\" d=\"M 23.521875 126.792 \nL 59.233875 126.792 \nL 59.233875 156.69 \nL 23.521875 156.69 \nL 23.521875 126.792 \n\" style=\"fill:#ffffd9;\"/>\n    <path clip-path=\"url(#p8a1b47bfcc)\" d=\"M 59.233875 126.792 \nL 94.945875 126.792 \nL 94.945875 156.69 \nL 59.233875 156.69 \nL 59.233875 126.792 \n\" style=\"fill:#feffd6;\"/>\n    <path clip-path=\"url(#p8a1b47bfcc)\" d=\"M 94.945875 126.792 \nL 130.657875 126.792 \nL 130.657875 156.69 \nL 94.945875 156.69 \nL 94.945875 126.792 \n\" style=\"fill:#ffffd9;\"/>\n    <path clip-path=\"url(#p8a1b47bfcc)\" d=\"M 130.657875 126.792 \nL 166.369875 126.792 \nL 166.369875 156.69 \nL 130.657875 156.69 \nL 130.657875 126.792 \n\" style=\"fill:#ffffd9;\"/>\n    <path clip-path=\"url(#p8a1b47bfcc)\" d=\"M 166.369875 126.792 \nL 202.081875 126.792 \nL 202.081875 156.69 \nL 166.369875 156.69 \nL 166.369875 126.792 \n\" style=\"fill:#162874;\"/>\n    <path clip-path=\"url(#p8a1b47bfcc)\" d=\"M 202.081875 126.792 \nL 237.793875 126.792 \nL 237.793875 156.69 \nL 202.081875 156.69 \nL 202.081875 126.792 \n\" style=\"fill:#ffffd9;\"/>\n    <path clip-path=\"url(#p8a1b47bfcc)\" d=\"M 237.793875 126.792 \nL 273.505875 126.792 \nL 273.505875 156.69 \nL 237.793875 156.69 \nL 237.793875 126.792 \n\" style=\"fill:#feffd8;\"/>\n    <path clip-path=\"url(#p8a1b47bfcc)\" d=\"M 273.505875 126.792 \nL 309.217875 126.792 \nL 309.217875 156.69 \nL 273.505875 156.69 \nL 273.505875 126.792 \n\" style=\"fill:#fcfed1;\"/>\n    <path clip-path=\"url(#p8a1b47bfcc)\" d=\"M 309.217875 126.792 \nL 344.929875 126.792 \nL 344.929875 156.69 \nL 309.217875 156.69 \nL 309.217875 126.792 \n\" style=\"fill:#ffffd9;\"/>\n    <path clip-path=\"url(#p8a1b47bfcc)\" d=\"M 344.929875 126.792 \nL 380.641875 126.792 \nL 380.641875 156.69 \nL 344.929875 156.69 \nL 344.929875 126.792 \n\" style=\"fill:#fafdce;\"/>\n    <path clip-path=\"url(#p8a1b47bfcc)\" d=\"M 23.521875 156.69 \nL 59.233875 156.69 \nL 59.233875 186.588 \nL 23.521875 186.588 \nL 23.521875 156.69 \n\" style=\"fill:#feffd8;\"/>\n    <path clip-path=\"url(#p8a1b47bfcc)\" d=\"M 59.233875 156.69 \nL 94.945875 156.69 \nL 94.945875 186.588 \nL 59.233875 186.588 \nL 59.233875 156.69 \n\" style=\"fill:#ffffd9;\"/>\n    <path clip-path=\"url(#p8a1b47bfcc)\" d=\"M 94.945875 156.69 \nL 130.657875 156.69 \nL 130.657875 186.588 \nL 94.945875 186.588 \nL 94.945875 156.69 \n\" style=\"fill:#ffffd9;\"/>\n    <path clip-path=\"url(#p8a1b47bfcc)\" d=\"M 130.657875 156.69 \nL 166.369875 156.69 \nL 166.369875 186.588 \nL 130.657875 186.588 \nL 130.657875 156.69 \n\" style=\"fill:#feffd6;\"/>\n    <path clip-path=\"url(#p8a1b47bfcc)\" d=\"M 166.369875 156.69 \nL 202.081875 156.69 \nL 202.081875 186.588 \nL 166.369875 186.588 \nL 166.369875 156.69 \n\" style=\"fill:#ffffd9;\"/>\n    <path clip-path=\"url(#p8a1b47bfcc)\" d=\"M 202.081875 156.69 \nL 237.793875 156.69 \nL 237.793875 186.588 \nL 202.081875 186.588 \nL 202.081875 156.69 \n\" style=\"fill:#225aa6;\"/>\n    <path clip-path=\"url(#p8a1b47bfcc)\" d=\"M 237.793875 156.69 \nL 273.505875 156.69 \nL 273.505875 186.588 \nL 237.793875 186.588 \nL 237.793875 156.69 \n\" style=\"fill:#fcfed3;\"/>\n    <path clip-path=\"url(#p8a1b47bfcc)\" d=\"M 273.505875 156.69 \nL 309.217875 156.69 \nL 309.217875 186.588 \nL 273.505875 186.588 \nL 273.505875 156.69 \n\" style=\"fill:#ffffd9;\"/>\n    <path clip-path=\"url(#p8a1b47bfcc)\" d=\"M 309.217875 156.69 \nL 344.929875 156.69 \nL 344.929875 186.588 \nL 309.217875 186.588 \nL 309.217875 156.69 \n\" style=\"fill:#feffd8;\"/>\n    <path clip-path=\"url(#p8a1b47bfcc)\" d=\"M 344.929875 156.69 \nL 380.641875 156.69 \nL 380.641875 186.588 \nL 344.929875 186.588 \nL 344.929875 156.69 \n\" style=\"fill:#ffffd9;\"/>\n    <path clip-path=\"url(#p8a1b47bfcc)\" d=\"M 23.521875 186.588 \nL 59.233875 186.588 \nL 59.233875 216.486 \nL 23.521875 216.486 \nL 23.521875 186.588 \n\" style=\"fill:#ffffd9;\"/>\n    <path clip-path=\"url(#p8a1b47bfcc)\" d=\"M 59.233875 186.588 \nL 94.945875 186.588 \nL 94.945875 216.486 \nL 59.233875 216.486 \nL 59.233875 186.588 \n\" style=\"fill:#feffd8;\"/>\n    <path clip-path=\"url(#p8a1b47bfcc)\" d=\"M 94.945875 186.588 \nL 130.657875 186.588 \nL 130.657875 216.486 \nL 94.945875 216.486 \nL 94.945875 186.588 \n\" style=\"fill:#ffffd9;\"/>\n    <path clip-path=\"url(#p8a1b47bfcc)\" d=\"M 130.657875 186.588 \nL 166.369875 186.588 \nL 166.369875 216.486 \nL 130.657875 216.486 \nL 130.657875 186.588 \n\" style=\"fill:#ffffd9;\"/>\n    <path clip-path=\"url(#p8a1b47bfcc)\" d=\"M 166.369875 186.588 \nL 202.081875 186.588 \nL 202.081875 216.486 \nL 166.369875 216.486 \nL 166.369875 186.588 \n\" style=\"fill:#ffffd9;\"/>\n    <path clip-path=\"url(#p8a1b47bfcc)\" d=\"M 202.081875 186.588 \nL 237.793875 186.588 \nL 237.793875 216.486 \nL 202.081875 216.486 \nL 202.081875 186.588 \n\" style=\"fill:#feffd8;\"/>\n    <path clip-path=\"url(#p8a1b47bfcc)\" d=\"M 237.793875 186.588 \nL 273.505875 186.588 \nL 273.505875 216.486 \nL 237.793875 216.486 \nL 237.793875 186.588 \n\" style=\"fill:#21308b;\"/>\n    <path clip-path=\"url(#p8a1b47bfcc)\" d=\"M 273.505875 186.588 \nL 309.217875 186.588 \nL 309.217875 216.486 \nL 273.505875 216.486 \nL 273.505875 186.588 \n\" style=\"fill:#ffffd9;\"/>\n    <path clip-path=\"url(#p8a1b47bfcc)\" d=\"M 309.217875 186.588 \nL 344.929875 186.588 \nL 344.929875 216.486 \nL 309.217875 216.486 \nL 309.217875 186.588 \n\" style=\"fill:#ffffd9;\"/>\n    <path clip-path=\"url(#p8a1b47bfcc)\" d=\"M 344.929875 186.588 \nL 380.641875 186.588 \nL 380.641875 216.486 \nL 344.929875 216.486 \nL 344.929875 186.588 \n\" style=\"fill:#ffffd9;\"/>\n    <path clip-path=\"url(#p8a1b47bfcc)\" d=\"M 23.521875 216.486 \nL 59.233875 216.486 \nL 59.233875 246.384 \nL 23.521875 246.384 \nL 23.521875 216.486 \n\" style=\"fill:#ffffd9;\"/>\n    <path clip-path=\"url(#p8a1b47bfcc)\" d=\"M 59.233875 216.486 \nL 94.945875 216.486 \nL 94.945875 246.384 \nL 59.233875 246.384 \nL 59.233875 216.486 \n\" style=\"fill:#ffffd9;\"/>\n    <path clip-path=\"url(#p8a1b47bfcc)\" d=\"M 94.945875 216.486 \nL 130.657875 216.486 \nL 130.657875 246.384 \nL 94.945875 246.384 \nL 94.945875 216.486 \n\" style=\"fill:#ffffd9;\"/>\n    <path clip-path=\"url(#p8a1b47bfcc)\" d=\"M 130.657875 216.486 \nL 166.369875 216.486 \nL 166.369875 246.384 \nL 130.657875 246.384 \nL 130.657875 216.486 \n\" style=\"fill:#feffd8;\"/>\n    <path clip-path=\"url(#p8a1b47bfcc)\" d=\"M 166.369875 216.486 \nL 202.081875 216.486 \nL 202.081875 246.384 \nL 166.369875 246.384 \nL 166.369875 216.486 \n\" style=\"fill:#feffd8;\"/>\n    <path clip-path=\"url(#p8a1b47bfcc)\" d=\"M 202.081875 216.486 \nL 237.793875 216.486 \nL 237.793875 246.384 \nL 202.081875 246.384 \nL 202.081875 216.486 \n\" style=\"fill:#ffffd9;\"/>\n    <path clip-path=\"url(#p8a1b47bfcc)\" d=\"M 237.793875 216.486 \nL 273.505875 216.486 \nL 273.505875 246.384 \nL 237.793875 246.384 \nL 237.793875 216.486 \n\" style=\"fill:#ffffd9;\"/>\n    <path clip-path=\"url(#p8a1b47bfcc)\" d=\"M 273.505875 216.486 \nL 309.217875 216.486 \nL 309.217875 246.384 \nL 273.505875 246.384 \nL 273.505875 216.486 \n\" style=\"fill:#1b2c80;\"/>\n    <path clip-path=\"url(#p8a1b47bfcc)\" d=\"M 309.217875 216.486 \nL 344.929875 216.486 \nL 344.929875 246.384 \nL 309.217875 246.384 \nL 309.217875 216.486 \n\" style=\"fill:#feffd8;\"/>\n    <path clip-path=\"url(#p8a1b47bfcc)\" d=\"M 344.929875 216.486 \nL 380.641875 216.486 \nL 380.641875 246.384 \nL 344.929875 246.384 \nL 344.929875 216.486 \n\" style=\"fill:#fcfed3;\"/>\n    <path clip-path=\"url(#p8a1b47bfcc)\" d=\"M 23.521875 246.384 \nL 59.233875 246.384 \nL 59.233875 276.282 \nL 23.521875 276.282 \nL 23.521875 246.384 \n\" style=\"fill:#fdfed4;\"/>\n    <path clip-path=\"url(#p8a1b47bfcc)\" d=\"M 59.233875 246.384 \nL 94.945875 246.384 \nL 94.945875 276.282 \nL 59.233875 276.282 \nL 59.233875 246.384 \n\" style=\"fill:#39adc3;\"/>\n    <path clip-path=\"url(#p8a1b47bfcc)\" d=\"M 94.945875 246.384 \nL 130.657875 246.384 \nL 130.657875 276.282 \nL 94.945875 276.282 \nL 94.945875 246.384 \n\" style=\"fill:#fbfdd0;\"/>\n    <path clip-path=\"url(#p8a1b47bfcc)\" d=\"M 130.657875 246.384 \nL 166.369875 246.384 \nL 166.369875 276.282 \nL 130.657875 276.282 \nL 130.657875 246.384 \n\" style=\"fill:#f7fcc7;\"/>\n    <path clip-path=\"url(#p8a1b47bfcc)\" d=\"M 166.369875 246.384 \nL 202.081875 246.384 \nL 202.081875 276.282 \nL 166.369875 276.282 \nL 166.369875 246.384 \n\" style=\"fill:#fcfed3;\"/>\n    <path clip-path=\"url(#p8a1b47bfcc)\" d=\"M 202.081875 246.384 \nL 237.793875 246.384 \nL 237.793875 276.282 \nL 202.081875 276.282 \nL 202.081875 246.384 \n\" style=\"fill:#f4fbc1;\"/>\n    <path clip-path=\"url(#p8a1b47bfcc)\" d=\"M 237.793875 246.384 \nL 273.505875 246.384 \nL 273.505875 276.282 \nL 237.793875 276.282 \nL 237.793875 246.384 \n\" style=\"fill:#fbfdd0;\"/>\n    <path clip-path=\"url(#p8a1b47bfcc)\" d=\"M 273.505875 246.384 \nL 309.217875 246.384 \nL 309.217875 276.282 \nL 273.505875 276.282 \nL 273.505875 246.384 \n\" style=\"fill:#fafdcf;\"/>\n    <path clip-path=\"url(#p8a1b47bfcc)\" d=\"M 309.217875 246.384 \nL 344.929875 246.384 \nL 344.929875 276.282 \nL 309.217875 276.282 \nL 309.217875 246.384 \n\" style=\"fill:#192b7c;\"/>\n    <path clip-path=\"url(#p8a1b47bfcc)\" d=\"M 344.929875 246.384 \nL 380.641875 246.384 \nL 380.641875 276.282 \nL 344.929875 276.282 \nL 344.929875 246.384 \n\" style=\"fill:#f8fcc9;\"/>\n    <path clip-path=\"url(#p8a1b47bfcc)\" d=\"M 23.521875 276.282 \nL 59.233875 276.282 \nL 59.233875 306.18 \nL 23.521875 306.18 \nL 23.521875 276.282 \n\" style=\"fill:#ffffd9;\"/>\n    <path clip-path=\"url(#p8a1b47bfcc)\" d=\"M 59.233875 276.282 \nL 94.945875 276.282 \nL 94.945875 306.18 \nL 59.233875 306.18 \nL 59.233875 276.282 \n\" style=\"fill:#ffffd9;\"/>\n    <path clip-path=\"url(#p8a1b47bfcc)\" d=\"M 94.945875 276.282 \nL 130.657875 276.282 \nL 130.657875 306.18 \nL 94.945875 306.18 \nL 94.945875 276.282 \n\" style=\"fill:#ffffd9;\"/>\n    <path clip-path=\"url(#p8a1b47bfcc)\" d=\"M 130.657875 276.282 \nL 166.369875 276.282 \nL 166.369875 306.18 \nL 130.657875 306.18 \nL 130.657875 276.282 \n\" style=\"fill:#ffffd9;\"/>\n    <path clip-path=\"url(#p8a1b47bfcc)\" d=\"M 166.369875 276.282 \nL 202.081875 276.282 \nL 202.081875 306.18 \nL 166.369875 306.18 \nL 166.369875 276.282 \n\" style=\"fill:#feffd8;\"/>\n    <path clip-path=\"url(#p8a1b47bfcc)\" d=\"M 202.081875 276.282 \nL 237.793875 276.282 \nL 237.793875 306.18 \nL 202.081875 306.18 \nL 202.081875 276.282 \n\" style=\"fill:#feffd8;\"/>\n    <path clip-path=\"url(#p8a1b47bfcc)\" d=\"M 237.793875 276.282 \nL 273.505875 276.282 \nL 273.505875 306.18 \nL 237.793875 306.18 \nL 237.793875 276.282 \n\" style=\"fill:#ffffd9;\"/>\n    <path clip-path=\"url(#p8a1b47bfcc)\" d=\"M 273.505875 276.282 \nL 309.217875 276.282 \nL 309.217875 306.18 \nL 273.505875 306.18 \nL 273.505875 276.282 \n\" style=\"fill:#f9fdcc;\"/>\n    <path clip-path=\"url(#p8a1b47bfcc)\" d=\"M 309.217875 276.282 \nL 344.929875 276.282 \nL 344.929875 306.18 \nL 309.217875 306.18 \nL 309.217875 276.282 \n\" style=\"fill:#ffffd9;\"/>\n    <path clip-path=\"url(#p8a1b47bfcc)\" d=\"M 344.929875 276.282 \nL 380.641875 276.282 \nL 380.641875 306.18 \nL 344.929875 306.18 \nL 344.929875 276.282 \n\" style=\"fill:#21318d;\"/>\n   </g>\n   <g id=\"text_21\">\n    <!-- 939 -->\n    <g style=\"fill:#ffffff;\" transform=\"translate(33.036469 24.734938)scale(0.1 -0.1)\">\n     <use xlink:href=\"#LiberationSans-57\"/>\n     <use x=\"55.615234\" xlink:href=\"#LiberationSans-51\"/>\n     <use x=\"111.230469\" xlink:href=\"#LiberationSans-57\"/>\n    </g>\n   </g>\n   <g id=\"text_22\">\n    <!-- 0 -->\n    <g style=\"fill:#262626;\" transform=\"translate(74.309406 24.734938)scale(0.1 -0.1)\">\n     <use xlink:href=\"#LiberationSans-48\"/>\n    </g>\n   </g>\n   <g id=\"text_23\">\n    <!-- 3 -->\n    <g style=\"fill:#262626;\" transform=\"translate(110.021406 24.734938)scale(0.1 -0.1)\">\n     <use xlink:href=\"#LiberationSans-51\"/>\n    </g>\n   </g>\n   <g id=\"text_24\">\n    <!-- 3 -->\n    <g style=\"fill:#262626;\" transform=\"translate(145.733406 24.734938)scale(0.1 -0.1)\">\n     <use xlink:href=\"#LiberationSans-51\"/>\n    </g>\n   </g>\n   <g id=\"text_25\">\n    <!-- 0 -->\n    <g style=\"fill:#262626;\" transform=\"translate(181.445406 24.734938)scale(0.1 -0.1)\">\n     <use xlink:href=\"#LiberationSans-48\"/>\n    </g>\n   </g>\n   <g id=\"text_26\">\n    <!-- 4 -->\n    <g style=\"fill:#262626;\" transform=\"translate(217.157406 24.734938)scale(0.1 -0.1)\">\n     <use xlink:href=\"#LiberationSans-52\"/>\n    </g>\n   </g>\n   <g id=\"text_27\">\n    <!-- 10 -->\n    <g style=\"fill:#262626;\" transform=\"translate(250.088938 24.734938)scale(0.1 -0.1)\">\n     <use xlink:href=\"#LiberationSans-49\"/>\n     <use x=\"55.615234\" xlink:href=\"#LiberationSans-48\"/>\n    </g>\n   </g>\n   <g id=\"text_28\">\n    <!-- 0 -->\n    <g style=\"fill:#262626;\" transform=\"translate(288.581406 24.734938)scale(0.1 -0.1)\">\n     <use xlink:href=\"#LiberationSans-48\"/>\n    </g>\n   </g>\n   <g id=\"text_29\">\n    <!-- 6 -->\n    <g style=\"fill:#262626;\" transform=\"translate(324.293406 24.734938)scale(0.1 -0.1)\">\n     <use xlink:href=\"#LiberationSans-54\"/>\n    </g>\n   </g>\n   <g id=\"text_30\">\n    <!-- 4 -->\n    <g style=\"fill:#262626;\" transform=\"translate(360.005406 24.734938)scale(0.1 -0.1)\">\n     <use xlink:href=\"#LiberationSans-52\"/>\n    </g>\n   </g>\n   <g id=\"text_31\">\n    <!-- 0 -->\n    <g style=\"fill:#262626;\" transform=\"translate(38.597406 54.632938)scale(0.1 -0.1)\">\n     <use xlink:href=\"#LiberationSans-48\"/>\n    </g>\n   </g>\n   <g id=\"text_32\">\n    <!-- 546 -->\n    <g style=\"fill:#ffffff;\" transform=\"translate(68.748469 54.632938)scale(0.1 -0.1)\">\n     <use xlink:href=\"#LiberationSans-53\"/>\n     <use x=\"55.615234\" xlink:href=\"#LiberationSans-52\"/>\n     <use x=\"111.230469\" xlink:href=\"#LiberationSans-54\"/>\n    </g>\n   </g>\n   <g id=\"text_33\">\n    <!-- 0 -->\n    <g style=\"fill:#262626;\" transform=\"translate(110.021406 54.632938)scale(0.1 -0.1)\">\n     <use xlink:href=\"#LiberationSans-48\"/>\n    </g>\n   </g>\n   <g id=\"text_34\">\n    <!-- 0 -->\n    <g style=\"fill:#262626;\" transform=\"translate(145.733406 54.632938)scale(0.1 -0.1)\">\n     <use xlink:href=\"#LiberationSans-48\"/>\n    </g>\n   </g>\n   <g id=\"text_35\">\n    <!-- 0 -->\n    <g style=\"fill:#262626;\" transform=\"translate(181.445406 54.632938)scale(0.1 -0.1)\">\n     <use xlink:href=\"#LiberationSans-48\"/>\n    </g>\n   </g>\n   <g id=\"text_36\">\n    <!-- 0 -->\n    <g style=\"fill:#262626;\" transform=\"translate(217.157406 54.632938)scale(0.1 -0.1)\">\n     <use xlink:href=\"#LiberationSans-48\"/>\n    </g>\n   </g>\n   <g id=\"text_37\">\n    <!-- 0 -->\n    <g style=\"fill:#262626;\" transform=\"translate(252.869406 54.632938)scale(0.1 -0.1)\">\n     <use xlink:href=\"#LiberationSans-48\"/>\n    </g>\n   </g>\n   <g id=\"text_38\">\n    <!-- 0 -->\n    <g style=\"fill:#262626;\" transform=\"translate(288.581406 54.632938)scale(0.1 -0.1)\">\n     <use xlink:href=\"#LiberationSans-48\"/>\n    </g>\n   </g>\n   <g id=\"text_39\">\n    <!-- 0 -->\n    <g style=\"fill:#262626;\" transform=\"translate(324.293406 54.632938)scale(0.1 -0.1)\">\n     <use xlink:href=\"#LiberationSans-48\"/>\n    </g>\n   </g>\n   <g id=\"text_40\">\n    <!-- 0 -->\n    <g style=\"fill:#262626;\" transform=\"translate(360.005406 54.632938)scale(0.1 -0.1)\">\n     <use xlink:href=\"#LiberationSans-48\"/>\n    </g>\n   </g>\n   <g id=\"text_41\">\n    <!-- 9 -->\n    <g style=\"fill:#262626;\" transform=\"translate(38.597406 84.530938)scale(0.1 -0.1)\">\n     <use xlink:href=\"#LiberationSans-57\"/>\n    </g>\n   </g>\n   <g id=\"text_42\">\n    <!-- 50 -->\n    <g style=\"fill:#262626;\" transform=\"translate(71.528938 84.530938)scale(0.1 -0.1)\">\n     <use xlink:href=\"#LiberationSans-53\"/>\n     <use x=\"55.615234\" xlink:href=\"#LiberationSans-48\"/>\n    </g>\n   </g>\n   <g id=\"text_43\">\n    <!-- 984 -->\n    <g style=\"fill:#ffffff;\" transform=\"translate(104.460469 84.530938)scale(0.1 -0.1)\">\n     <use xlink:href=\"#LiberationSans-57\"/>\n     <use x=\"55.615234\" xlink:href=\"#LiberationSans-56\"/>\n     <use x=\"111.230469\" xlink:href=\"#LiberationSans-52\"/>\n    </g>\n   </g>\n   <g id=\"text_44\">\n    <!-- 24 -->\n    <g style=\"fill:#262626;\" transform=\"translate(142.952938 84.530938)scale(0.1 -0.1)\">\n     <use xlink:href=\"#LiberationSans-50\"/>\n     <use x=\"55.615234\" xlink:href=\"#LiberationSans-52\"/>\n    </g>\n   </g>\n   <g id=\"text_45\">\n    <!-- 24 -->\n    <g style=\"fill:#262626;\" transform=\"translate(178.664938 84.530938)scale(0.1 -0.1)\">\n     <use xlink:href=\"#LiberationSans-50\"/>\n     <use x=\"55.615234\" xlink:href=\"#LiberationSans-52\"/>\n    </g>\n   </g>\n   <g id=\"text_46\">\n    <!-- 9 -->\n    <g style=\"fill:#262626;\" transform=\"translate(217.157406 84.530938)scale(0.1 -0.1)\">\n     <use xlink:href=\"#LiberationSans-57\"/>\n    </g>\n   </g>\n   <g id=\"text_47\">\n    <!-- 13 -->\n    <g style=\"fill:#262626;\" transform=\"translate(250.088938 84.530938)scale(0.1 -0.1)\">\n     <use xlink:href=\"#LiberationSans-49\"/>\n     <use x=\"55.615234\" xlink:href=\"#LiberationSans-51\"/>\n    </g>\n   </g>\n   <g id=\"text_48\">\n    <!-- 17 -->\n    <g style=\"fill:#262626;\" transform=\"translate(285.800938 84.530938)scale(0.1 -0.1)\">\n     <use xlink:href=\"#LiberationSans-49\"/>\n     <use x=\"55.615234\" xlink:href=\"#LiberationSans-55\"/>\n    </g>\n   </g>\n   <g id=\"text_49\">\n    <!-- 20 -->\n    <g style=\"fill:#262626;\" transform=\"translate(321.512938 84.530938)scale(0.1 -0.1)\">\n     <use xlink:href=\"#LiberationSans-50\"/>\n     <use x=\"55.615234\" xlink:href=\"#LiberationSans-48\"/>\n    </g>\n   </g>\n   <g id=\"text_50\">\n    <!-- 6 -->\n    <g style=\"fill:#262626;\" transform=\"translate(360.005406 84.530938)scale(0.1 -0.1)\">\n     <use xlink:href=\"#LiberationSans-54\"/>\n    </g>\n   </g>\n   <g id=\"text_51\">\n    <!-- 6 -->\n    <g style=\"fill:#262626;\" transform=\"translate(38.597406 114.428938)scale(0.1 -0.1)\">\n     <use xlink:href=\"#LiberationSans-54\"/>\n    </g>\n   </g>\n   <g id=\"text_52\">\n    <!-- 4 -->\n    <g style=\"fill:#262626;\" transform=\"translate(74.309406 114.428938)scale(0.1 -0.1)\">\n     <use xlink:href=\"#LiberationSans-52\"/>\n    </g>\n   </g>\n   <g id=\"text_53\">\n    <!-- 10 -->\n    <g style=\"fill:#262626;\" transform=\"translate(107.240938 114.428938)scale(0.1 -0.1)\">\n     <use xlink:href=\"#LiberationSans-49\"/>\n     <use x=\"55.615234\" xlink:href=\"#LiberationSans-48\"/>\n    </g>\n   </g>\n   <g id=\"text_54\">\n    <!-- 908 -->\n    <g style=\"fill:#ffffff;\" transform=\"translate(140.172469 114.428938)scale(0.1 -0.1)\">\n     <use xlink:href=\"#LiberationSans-57\"/>\n     <use x=\"55.615234\" xlink:href=\"#LiberationSans-48\"/>\n     <use x=\"111.230469\" xlink:href=\"#LiberationSans-56\"/>\n    </g>\n   </g>\n   <g id=\"text_55\">\n    <!-- 1 -->\n    <g style=\"fill:#262626;\" transform=\"translate(181.445406 114.428938)scale(0.1 -0.1)\">\n     <use xlink:href=\"#LiberationSans-49\"/>\n    </g>\n   </g>\n   <g id=\"text_56\">\n    <!-- 42 -->\n    <g style=\"fill:#262626;\" transform=\"translate(214.376938 114.428938)scale(0.1 -0.1)\">\n     <use xlink:href=\"#LiberationSans-52\"/>\n     <use x=\"55.615234\" xlink:href=\"#LiberationSans-50\"/>\n    </g>\n   </g>\n   <g id=\"text_57\">\n    <!-- 0 -->\n    <g style=\"fill:#262626;\" transform=\"translate(252.869406 114.428938)scale(0.1 -0.1)\">\n     <use xlink:href=\"#LiberationSans-48\"/>\n    </g>\n   </g>\n   <g id=\"text_58\">\n    <!-- 12 -->\n    <g style=\"fill:#262626;\" transform=\"translate(285.800938 114.428938)scale(0.1 -0.1)\">\n     <use xlink:href=\"#LiberationSans-49\"/>\n     <use x=\"55.615234\" xlink:href=\"#LiberationSans-50\"/>\n    </g>\n   </g>\n   <g id=\"text_59\">\n    <!-- 23 -->\n    <g style=\"fill:#262626;\" transform=\"translate(321.512938 114.428938)scale(0.1 -0.1)\">\n     <use xlink:href=\"#LiberationSans-50\"/>\n     <use x=\"55.615234\" xlink:href=\"#LiberationSans-51\"/>\n    </g>\n   </g>\n   <g id=\"text_60\">\n    <!-- 13 -->\n    <g style=\"fill:#262626;\" transform=\"translate(357.224938 114.428938)scale(0.1 -0.1)\">\n     <use xlink:href=\"#LiberationSans-49\"/>\n     <use x=\"55.615234\" xlink:href=\"#LiberationSans-51\"/>\n    </g>\n   </g>\n   <g id=\"text_61\">\n    <!-- 0 -->\n    <g style=\"fill:#262626;\" transform=\"translate(38.597406 144.326938)scale(0.1 -0.1)\">\n     <use xlink:href=\"#LiberationSans-48\"/>\n    </g>\n   </g>\n   <g id=\"text_62\">\n    <!-- 8 -->\n    <g style=\"fill:#262626;\" transform=\"translate(74.309406 144.326938)scale(0.1 -0.1)\">\n     <use xlink:href=\"#LiberationSans-56\"/>\n    </g>\n   </g>\n   <g id=\"text_63\">\n    <!-- 1 -->\n    <g style=\"fill:#262626;\" transform=\"translate(110.021406 144.326938)scale(0.1 -0.1)\">\n     <use xlink:href=\"#LiberationSans-49\"/>\n    </g>\n   </g>\n   <g id=\"text_64\">\n    <!-- 1 -->\n    <g style=\"fill:#262626;\" transform=\"translate(145.733406 144.326938)scale(0.1 -0.1)\">\n     <use xlink:href=\"#LiberationSans-49\"/>\n    </g>\n   </g>\n   <g id=\"text_65\">\n    <!-- 923 -->\n    <g style=\"fill:#ffffff;\" transform=\"translate(175.884469 144.326938)scale(0.1 -0.1)\">\n     <use xlink:href=\"#LiberationSans-57\"/>\n     <use x=\"55.615234\" xlink:href=\"#LiberationSans-50\"/>\n     <use x=\"111.230469\" xlink:href=\"#LiberationSans-51\"/>\n    </g>\n   </g>\n   <g id=\"text_66\">\n    <!-- 2 -->\n    <g style=\"fill:#262626;\" transform=\"translate(217.157406 144.326938)scale(0.1 -0.1)\">\n     <use xlink:href=\"#LiberationSans-50\"/>\n    </g>\n   </g>\n   <g id=\"text_67\">\n    <!-- 5 -->\n    <g style=\"fill:#262626;\" transform=\"translate(252.869406 144.326938)scale(0.1 -0.1)\">\n     <use xlink:href=\"#LiberationSans-53\"/>\n    </g>\n   </g>\n   <g id=\"text_68\">\n    <!-- 24 -->\n    <g style=\"fill:#262626;\" transform=\"translate(285.800938 144.326938)scale(0.1 -0.1)\">\n     <use xlink:href=\"#LiberationSans-50\"/>\n     <use x=\"55.615234\" xlink:href=\"#LiberationSans-52\"/>\n    </g>\n   </g>\n   <g id=\"text_69\">\n    <!-- 3 -->\n    <g style=\"fill:#262626;\" transform=\"translate(324.293406 144.326938)scale(0.1 -0.1)\">\n     <use xlink:href=\"#LiberationSans-51\"/>\n    </g>\n   </g>\n   <g id=\"text_70\">\n    <!-- 36 -->\n    <g style=\"fill:#262626;\" transform=\"translate(357.224938 144.326938)scale(0.1 -0.1)\">\n     <use xlink:href=\"#LiberationSans-51\"/>\n     <use x=\"55.615234\" xlink:href=\"#LiberationSans-54\"/>\n    </g>\n   </g>\n   <g id=\"text_71\">\n    <!-- 5 -->\n    <g style=\"fill:#262626;\" transform=\"translate(38.597406 174.224938)scale(0.1 -0.1)\">\n     <use xlink:href=\"#LiberationSans-53\"/>\n    </g>\n   </g>\n   <g id=\"text_72\">\n    <!-- 0 -->\n    <g style=\"fill:#262626;\" transform=\"translate(74.309406 174.224938)scale(0.1 -0.1)\">\n     <use xlink:href=\"#LiberationSans-48\"/>\n    </g>\n   </g>\n   <g id=\"text_73\">\n    <!-- 0 -->\n    <g style=\"fill:#262626;\" transform=\"translate(110.021406 174.224938)scale(0.1 -0.1)\">\n     <use xlink:href=\"#LiberationSans-48\"/>\n    </g>\n   </g>\n   <g id=\"text_74\">\n    <!-- 10 -->\n    <g style=\"fill:#262626;\" transform=\"translate(142.952938 174.224938)scale(0.1 -0.1)\">\n     <use xlink:href=\"#LiberationSans-49\"/>\n     <use x=\"55.615234\" xlink:href=\"#LiberationSans-48\"/>\n    </g>\n   </g>\n   <g id=\"text_75\">\n    <!-- 0 -->\n    <g style=\"fill:#262626;\" transform=\"translate(181.445406 174.224938)scale(0.1 -0.1)\">\n     <use xlink:href=\"#LiberationSans-48\"/>\n    </g>\n   </g>\n   <g id=\"text_76\">\n    <!-- 748 -->\n    <g style=\"fill:#ffffff;\" transform=\"translate(211.596469 174.224938)scale(0.1 -0.1)\">\n     <use xlink:href=\"#LiberationSans-55\"/>\n     <use x=\"55.615234\" xlink:href=\"#LiberationSans-52\"/>\n     <use x=\"111.230469\" xlink:href=\"#LiberationSans-56\"/>\n    </g>\n   </g>\n   <g id=\"text_77\">\n    <!-- 21 -->\n    <g style=\"fill:#262626;\" transform=\"translate(250.088938 174.224938)scale(0.1 -0.1)\">\n     <use xlink:href=\"#LiberationSans-50\"/>\n     <use x=\"55.615234\" xlink:href=\"#LiberationSans-49\"/>\n    </g>\n   </g>\n   <g id=\"text_78\">\n    <!-- 1 -->\n    <g style=\"fill:#262626;\" transform=\"translate(288.581406 174.224938)scale(0.1 -0.1)\">\n     <use xlink:href=\"#LiberationSans-49\"/>\n    </g>\n   </g>\n   <g id=\"text_79\">\n    <!-- 6 -->\n    <g style=\"fill:#262626;\" transform=\"translate(324.293406 174.224938)scale(0.1 -0.1)\">\n     <use xlink:href=\"#LiberationSans-54\"/>\n    </g>\n   </g>\n   <g id=\"text_80\">\n    <!-- 1 -->\n    <g style=\"fill:#262626;\" transform=\"translate(360.005406 174.224938)scale(0.1 -0.1)\">\n     <use xlink:href=\"#LiberationSans-49\"/>\n    </g>\n   </g>\n   <g id=\"text_81\">\n    <!-- 3 -->\n    <g style=\"fill:#262626;\" transform=\"translate(38.597406 204.122938)scale(0.1 -0.1)\">\n     <use xlink:href=\"#LiberationSans-51\"/>\n    </g>\n   </g>\n   <g id=\"text_82\">\n    <!-- 7 -->\n    <g style=\"fill:#262626;\" transform=\"translate(74.309406 204.122938)scale(0.1 -0.1)\">\n     <use xlink:href=\"#LiberationSans-55\"/>\n    </g>\n   </g>\n   <g id=\"text_83\">\n    <!-- 1 -->\n    <g style=\"fill:#262626;\" transform=\"translate(110.021406 204.122938)scale(0.1 -0.1)\">\n     <use xlink:href=\"#LiberationSans-49\"/>\n    </g>\n   </g>\n   <g id=\"text_84\">\n    <!-- 0 -->\n    <g style=\"fill:#262626;\" transform=\"translate(145.733406 204.122938)scale(0.1 -0.1)\">\n     <use xlink:href=\"#LiberationSans-48\"/>\n    </g>\n   </g>\n   <g id=\"text_85\">\n    <!-- 1 -->\n    <g style=\"fill:#262626;\" transform=\"translate(181.445406 204.122938)scale(0.1 -0.1)\">\n     <use xlink:href=\"#LiberationSans-49\"/>\n    </g>\n   </g>\n   <g id=\"text_86\">\n    <!-- 6 -->\n    <g style=\"fill:#262626;\" transform=\"translate(217.157406 204.122938)scale(0.1 -0.1)\">\n     <use xlink:href=\"#LiberationSans-54\"/>\n    </g>\n   </g>\n   <g id=\"text_87\">\n    <!-- 880 -->\n    <g style=\"fill:#ffffff;\" transform=\"translate(247.308469 204.122938)scale(0.1 -0.1)\">\n     <use xlink:href=\"#LiberationSans-56\"/>\n     <use x=\"55.615234\" xlink:href=\"#LiberationSans-56\"/>\n     <use x=\"111.230469\" xlink:href=\"#LiberationSans-48\"/>\n    </g>\n   </g>\n   <g id=\"text_88\">\n    <!-- 0 -->\n    <g style=\"fill:#262626;\" transform=\"translate(288.581406 204.122938)scale(0.1 -0.1)\">\n     <use xlink:href=\"#LiberationSans-48\"/>\n    </g>\n   </g>\n   <g id=\"text_89\">\n    <!-- 0 -->\n    <g style=\"fill:#262626;\" transform=\"translate(324.293406 204.122938)scale(0.1 -0.1)\">\n     <use xlink:href=\"#LiberationSans-48\"/>\n    </g>\n   </g>\n   <g id=\"text_90\">\n    <!-- 0 -->\n    <g style=\"fill:#262626;\" transform=\"translate(360.005406 204.122938)scale(0.1 -0.1)\">\n     <use xlink:href=\"#LiberationSans-48\"/>\n    </g>\n   </g>\n   <g id=\"text_91\">\n    <!-- 1 -->\n    <g style=\"fill:#262626;\" transform=\"translate(38.597406 234.020938)scale(0.1 -0.1)\">\n     <use xlink:href=\"#LiberationSans-49\"/>\n    </g>\n   </g>\n   <g id=\"text_92\">\n    <!-- 0 -->\n    <g style=\"fill:#262626;\" transform=\"translate(74.309406 234.020938)scale(0.1 -0.1)\">\n     <use xlink:href=\"#LiberationSans-48\"/>\n    </g>\n   </g>\n   <g id=\"text_93\">\n    <!-- 3 -->\n    <g style=\"fill:#262626;\" transform=\"translate(110.021406 234.020938)scale(0.1 -0.1)\">\n     <use xlink:href=\"#LiberationSans-51\"/>\n    </g>\n   </g>\n   <g id=\"text_94\">\n    <!-- 4 -->\n    <g style=\"fill:#262626;\" transform=\"translate(145.733406 234.020938)scale(0.1 -0.1)\">\n     <use xlink:href=\"#LiberationSans-52\"/>\n    </g>\n   </g>\n   <g id=\"text_95\">\n    <!-- 5 -->\n    <g style=\"fill:#262626;\" transform=\"translate(181.445406 234.020938)scale(0.1 -0.1)\">\n     <use xlink:href=\"#LiberationSans-53\"/>\n    </g>\n   </g>\n   <g id=\"text_96\">\n    <!-- 1 -->\n    <g style=\"fill:#262626;\" transform=\"translate(217.157406 234.020938)scale(0.1 -0.1)\">\n     <use xlink:href=\"#LiberationSans-49\"/>\n    </g>\n   </g>\n   <g id=\"text_97\">\n    <!-- 0 -->\n    <g style=\"fill:#262626;\" transform=\"translate(252.869406 234.020938)scale(0.1 -0.1)\">\n     <use xlink:href=\"#LiberationSans-48\"/>\n    </g>\n   </g>\n   <g id=\"text_98\">\n    <!-- 903 -->\n    <g style=\"fill:#ffffff;\" transform=\"translate(283.020469 234.020938)scale(0.1 -0.1)\">\n     <use xlink:href=\"#LiberationSans-57\"/>\n     <use x=\"55.615234\" xlink:href=\"#LiberationSans-48\"/>\n     <use x=\"111.230469\" xlink:href=\"#LiberationSans-51\"/>\n    </g>\n   </g>\n   <g id=\"text_99\">\n    <!-- 4 -->\n    <g style=\"fill:#262626;\" transform=\"translate(324.293406 234.020938)scale(0.1 -0.1)\">\n     <use xlink:href=\"#LiberationSans-52\"/>\n    </g>\n   </g>\n   <g id=\"text_100\">\n    <!-- 23 -->\n    <g style=\"fill:#262626;\" transform=\"translate(357.224938 234.020938)scale(0.1 -0.1)\">\n     <use xlink:href=\"#LiberationSans-50\"/>\n     <use x=\"55.615234\" xlink:href=\"#LiberationSans-51\"/>\n    </g>\n   </g>\n   <g id=\"text_101\">\n    <!-- 17 -->\n    <g style=\"fill:#262626;\" transform=\"translate(35.816937 263.918938)scale(0.1 -0.1)\">\n     <use xlink:href=\"#LiberationSans-49\"/>\n     <use x=\"55.615234\" xlink:href=\"#LiberationSans-55\"/>\n    </g>\n   </g>\n   <g id=\"text_102\">\n    <!-- 520 -->\n    <g style=\"fill:#ffffff;\" transform=\"translate(68.748469 263.918938)scale(0.1 -0.1)\">\n     <use xlink:href=\"#LiberationSans-53\"/>\n     <use x=\"55.615234\" xlink:href=\"#LiberationSans-50\"/>\n     <use x=\"111.230469\" xlink:href=\"#LiberationSans-48\"/>\n    </g>\n   </g>\n   <g id=\"text_103\">\n    <!-- 30 -->\n    <g style=\"fill:#262626;\" transform=\"translate(107.240938 263.918938)scale(0.1 -0.1)\">\n     <use xlink:href=\"#LiberationSans-51\"/>\n     <use x=\"55.615234\" xlink:href=\"#LiberationSans-48\"/>\n    </g>\n   </g>\n   <g id=\"text_104\">\n    <!-- 57 -->\n    <g style=\"fill:#262626;\" transform=\"translate(142.952938 263.918938)scale(0.1 -0.1)\">\n     <use xlink:href=\"#LiberationSans-53\"/>\n     <use x=\"55.615234\" xlink:href=\"#LiberationSans-55\"/>\n    </g>\n   </g>\n   <g id=\"text_105\">\n    <!-- 22 -->\n    <g style=\"fill:#262626;\" transform=\"translate(178.664938 263.918938)scale(0.1 -0.1)\">\n     <use xlink:href=\"#LiberationSans-50\"/>\n     <use x=\"55.615234\" xlink:href=\"#LiberationSans-50\"/>\n    </g>\n   </g>\n   <g id=\"text_106\">\n    <!-- 76 -->\n    <g style=\"fill:#262626;\" transform=\"translate(214.376938 263.918938)scale(0.1 -0.1)\">\n     <use xlink:href=\"#LiberationSans-55\"/>\n     <use x=\"55.615234\" xlink:href=\"#LiberationSans-54\"/>\n    </g>\n   </g>\n   <g id=\"text_107\">\n    <!-- 29 -->\n    <g style=\"fill:#262626;\" transform=\"translate(250.088938 263.918938)scale(0.1 -0.1)\">\n     <use xlink:href=\"#LiberationSans-50\"/>\n     <use x=\"55.615234\" xlink:href=\"#LiberationSans-57\"/>\n    </g>\n   </g>\n   <g id=\"text_108\">\n    <!-- 32 -->\n    <g style=\"fill:#262626;\" transform=\"translate(285.800938 263.918938)scale(0.1 -0.1)\">\n     <use xlink:href=\"#LiberationSans-51\"/>\n     <use x=\"55.615234\" xlink:href=\"#LiberationSans-50\"/>\n    </g>\n   </g>\n   <g id=\"text_109\">\n    <!-- 910 -->\n    <g style=\"fill:#ffffff;\" transform=\"translate(318.732469 263.918938)scale(0.1 -0.1)\">\n     <use xlink:href=\"#LiberationSans-57\"/>\n     <use x=\"55.615234\" xlink:href=\"#LiberationSans-49\"/>\n     <use x=\"111.230469\" xlink:href=\"#LiberationSans-48\"/>\n    </g>\n   </g>\n   <g id=\"text_110\">\n    <!-- 52 -->\n    <g style=\"fill:#262626;\" transform=\"translate(357.224938 263.918938)scale(0.1 -0.1)\">\n     <use xlink:href=\"#LiberationSans-53\"/>\n     <use x=\"55.615234\" xlink:href=\"#LiberationSans-50\"/>\n    </g>\n   </g>\n   <g id=\"text_111\">\n    <!-- 0 -->\n    <g style=\"fill:#262626;\" transform=\"translate(38.597406 293.816938)scale(0.1 -0.1)\">\n     <use xlink:href=\"#LiberationSans-48\"/>\n    </g>\n   </g>\n   <g id=\"text_112\">\n    <!-- 0 -->\n    <g style=\"fill:#262626;\" transform=\"translate(74.309406 293.816938)scale(0.1 -0.1)\">\n     <use xlink:href=\"#LiberationSans-48\"/>\n    </g>\n   </g>\n   <g id=\"text_113\">\n    <!-- 0 -->\n    <g style=\"fill:#262626;\" transform=\"translate(110.021406 293.816938)scale(0.1 -0.1)\">\n     <use xlink:href=\"#LiberationSans-48\"/>\n    </g>\n   </g>\n   <g id=\"text_114\">\n    <!-- 3 -->\n    <g style=\"fill:#262626;\" transform=\"translate(145.733406 293.816938)scale(0.1 -0.1)\">\n     <use xlink:href=\"#LiberationSans-51\"/>\n    </g>\n   </g>\n   <g id=\"text_115\">\n    <!-- 6 -->\n    <g style=\"fill:#262626;\" transform=\"translate(181.445406 293.816938)scale(0.1 -0.1)\">\n     <use xlink:href=\"#LiberationSans-54\"/>\n    </g>\n   </g>\n   <g id=\"text_116\">\n    <!-- 4 -->\n    <g style=\"fill:#262626;\" transform=\"translate(217.157406 293.816938)scale(0.1 -0.1)\">\n     <use xlink:href=\"#LiberationSans-52\"/>\n    </g>\n   </g>\n   <g id=\"text_117\">\n    <!-- 0 -->\n    <g style=\"fill:#262626;\" transform=\"translate(252.869406 293.816938)scale(0.1 -0.1)\">\n     <use xlink:href=\"#LiberationSans-48\"/>\n    </g>\n   </g>\n   <g id=\"text_118\">\n    <!-- 39 -->\n    <g style=\"fill:#262626;\" transform=\"translate(285.800938 293.816938)scale(0.1 -0.1)\">\n     <use xlink:href=\"#LiberationSans-51\"/>\n     <use x=\"55.615234\" xlink:href=\"#LiberationSans-57\"/>\n    </g>\n   </g>\n   <g id=\"text_119\">\n    <!-- 2 -->\n    <g style=\"fill:#262626;\" transform=\"translate(324.293406 293.816938)scale(0.1 -0.1)\">\n     <use xlink:href=\"#LiberationSans-50\"/>\n    </g>\n   </g>\n   <g id=\"text_120\">\n    <!-- 874 -->\n    <g style=\"fill:#ffffff;\" transform=\"translate(354.444469 293.816938)scale(0.1 -0.1)\">\n     <use xlink:href=\"#LiberationSans-56\"/>\n     <use x=\"55.615234\" xlink:href=\"#LiberationSans-55\"/>\n     <use x=\"111.230469\" xlink:href=\"#LiberationSans-52\"/>\n    </g>\n   </g>\n  </g>\n  <g id=\"axes_2\">\n   <g id=\"patch_3\">\n    <path clip-path=\"url(#p41d8eb4e03)\" d=\"M 402.961875 306.18 \nL 402.961875 305.012109 \nL 402.961875 8.367891 \nL 402.961875 7.2 \nL 417.910875 7.2 \nL 417.910875 8.367891 \nL 417.910875 305.012109 \nL 417.910875 306.18 \nz\n\" style=\"fill:#eaeaf2;stroke:#eaeaf2;stroke-linejoin:miter;stroke-width:0.01;\"/>\n   </g>\n   <g id=\"matplotlib.axis_3\"/>\n   <g id=\"matplotlib.axis_4\">\n    <g id=\"ytick_11\">\n     <g id=\"line2d_21\"/>\n     <g id=\"text_121\">\n      <!-- 0 -->\n      <g style=\"fill:#262626;\" transform=\"translate(424.910875 309.803438)scale(0.1 -0.1)\">\n       <use xlink:href=\"#LiberationSans-48\"/>\n      </g>\n     </g>\n    </g>\n    <g id=\"ytick_12\">\n     <g id=\"line2d_22\"/>\n     <g id=\"text_122\">\n      <!-- 200 -->\n      <g style=\"fill:#262626;\" transform=\"translate(424.910875 249.035145)scale(0.1 -0.1)\">\n       <use xlink:href=\"#LiberationSans-50\"/>\n       <use x=\"55.615234\" xlink:href=\"#LiberationSans-48\"/>\n       <use x=\"111.230469\" xlink:href=\"#LiberationSans-48\"/>\n      </g>\n     </g>\n    </g>\n    <g id=\"ytick_13\">\n     <g id=\"line2d_23\"/>\n     <g id=\"text_123\">\n      <!-- 400 -->\n      <g style=\"fill:#262626;\" transform=\"translate(424.910875 188.266852)scale(0.1 -0.1)\">\n       <use xlink:href=\"#LiberationSans-52\"/>\n       <use x=\"55.615234\" xlink:href=\"#LiberationSans-48\"/>\n       <use x=\"111.230469\" xlink:href=\"#LiberationSans-48\"/>\n      </g>\n     </g>\n    </g>\n    <g id=\"ytick_14\">\n     <g id=\"line2d_24\"/>\n     <g id=\"text_124\">\n      <!-- 600 -->\n      <g style=\"fill:#262626;\" transform=\"translate(424.910875 127.498559)scale(0.1 -0.1)\">\n       <use xlink:href=\"#LiberationSans-54\"/>\n       <use x=\"55.615234\" xlink:href=\"#LiberationSans-48\"/>\n       <use x=\"111.230469\" xlink:href=\"#LiberationSans-48\"/>\n      </g>\n     </g>\n    </g>\n    <g id=\"ytick_15\">\n     <g id=\"line2d_25\"/>\n     <g id=\"text_125\">\n      <!-- 800 -->\n      <g style=\"fill:#262626;\" transform=\"translate(424.910875 66.730267)scale(0.1 -0.1)\">\n       <use xlink:href=\"#LiberationSans-56\"/>\n       <use x=\"55.615234\" xlink:href=\"#LiberationSans-48\"/>\n       <use x=\"111.230469\" xlink:href=\"#LiberationSans-48\"/>\n      </g>\n     </g>\n    </g>\n   </g>\n   <image height=\"299\" id=\"image14b7c4a826\" transform=\"scale(1 -1)translate(0 -299)\" width=\"15\" x=\"403\" xlink:href=\"data:image/png;base64,\niVBORw0KGgoAAAANSUhEUgAAAA8AAAErCAYAAAABnNneAAAABHNCSVQICAgIfAhkiAAAAa1JREFUeJztnNuNAzEMA+XA/dd3zez6euAAGRBO/gnZpEjty1nv+TsT/vbMm2LnEyNnZp8Tr3r2DAAfAiaEsT2TZTOpINuAMFZZ7DDLVR5hoqtYZctVsD0twjS29zmdrqokrNdVAJzTNbNBYbhsWHnFYCgVAb8iYY2VmVTMGJW97bWn6KpSY2hhIM4qzxidYdB6WYF6G4JBkzzerBKlkgjzmkSU6kEZ5rGdY9meTVdpYOgqqcOYVA8BexPD1DkHq64i4yYv3HpNIt4CsxsUb9DlWNdV1t1NpzHQnlsDsNMYvwD8auUrjZEXbvWzKBV7HiaC0XvJvDJ8jAeaGz4DbNU5B1OppA67UWfzPQaz5HVN0iuVB+6cVajDiFTg453ZQ3J7iFQLVIbfh3mEaWyDDxBnL1AZSnUh27CyJRXxc2uGwfaMsVQqb8+eq6xliwG4WgddjK2VStuzmduiVASMMoyBY2xvAGp7ZlNSlCqvTKW6bmK0SgWvAEFlMT2tZdMHS+hYmHb+mSx7rD2bUok6NzYJPXfjEYZO2DcuWw1AK8M6w6A1AMU/+mg1RmMY/APZl+HdhGRZhAAAAABJRU5ErkJggg==\" y=\"-6\"/>\n   <g id=\"patch_4\">\n    <path d=\"M 402.961875 306.18 \nL 402.961875 305.012109 \nL 402.961875 8.367891 \nL 402.961875 7.2 \nL 417.910875 7.2 \nL 417.910875 8.367891 \nL 417.910875 305.012109 \nL 417.910875 306.18 \nz\n\" style=\"fill:none;\"/>\n   </g>\n  </g>\n </g>\n <defs>\n  <clipPath id=\"p8a1b47bfcc\">\n   <rect height=\"298.98\" width=\"357.12\" x=\"23.521875\" y=\"7.2\"/>\n  </clipPath>\n  <clipPath id=\"p41d8eb4e03\">\n   <rect height=\"298.98\" width=\"14.949\" x=\"402.961875\" y=\"7.2\"/>\n  </clipPath>\n </defs>\n</svg>\n"
          },
          "metadata": {}
        }
      ]
    },
    {
      "cell_type": "code",
      "source": [
        ""
      ],
      "metadata": {
        "id": "QpBWJ-6S5dSk"
      },
      "execution_count": null,
      "outputs": []
    },
    {
      "cell_type": "code",
      "source": [
        ""
      ],
      "metadata": {
        "id": "5pd3HXCH7wQ6"
      },
      "execution_count": null,
      "outputs": []
    }
  ]
}